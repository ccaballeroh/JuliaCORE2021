{
  "cells": [
    {
      "cell_type": "markdown",
      "source": [
        "# Empezando\n",
        "\n",
        "Temas:\n",
        "\n",
        "1. Cómo imprimir\n",
        "1. Cómo asignar variables\n",
        "1. Cómo comentar\n",
        "1. Sintaxis para matemáticas básicas\n"
      ],
      "metadata": {}
    },
    {
      "cell_type": "markdown",
      "source": [
        "## Cómo imprimir\n",
        "\n",
        "En Julia, comúnmente se usa `println()` para imprimir, pero `print()` también funciona. ¿Cuál es la diferencia?"
      ],
      "metadata": {}
    },
    {
      "cell_type": "code",
      "source": [
        "println(\"¡Hola, CORE 2020!\")"
      ],
      "outputs": [
        {
          "output_type": "stream",
          "name": "stdout",
          "text": [
            "¡Hola, CORE 2020!\n"
          ]
        }
      ],
      "execution_count": 1,
      "metadata": {
        "execution": {
          "iopub.status.busy": "2020-11-30T18:57:52.836Z",
          "iopub.execute_input": "2020-11-30T18:57:53.772Z",
          "iopub.status.idle": "2020-11-30T18:57:54.143Z"
        }
      }
    },
    {
      "cell_type": "markdown",
      "source": [
        "## Cómo asignar variables\n",
        "\n",
        "Solo se necesita un nombre de variable, un valor y un signo de igual.\n",
        "\n",
        "Julia se encarga de los *tipos* por nosotros."
      ],
      "metadata": {}
    },
    {
      "cell_type": "code",
      "source": [
        "my_answer = 42\n",
        "typeof(my_answer)"
      ],
      "outputs": [
        {
          "output_type": "execute_result",
          "execution_count": 4,
          "data": {
            "text/plain": "Int64"
          },
          "metadata": {}
        }
      ],
      "execution_count": 4,
      "metadata": {
        "execution": {
          "iopub.status.busy": "2020-11-30T18:59:03.063Z",
          "iopub.execute_input": "2020-11-30T18:59:03.079Z",
          "iopub.status.idle": "2020-11-30T18:59:03.116Z"
        }
      }
    },
    {
      "cell_type": "code",
      "source": [
        "my_pi = 3.14159\n",
        "typeof(my_pi)"
      ],
      "outputs": [
        {
          "output_type": "execute_result",
          "execution_count": 5,
          "data": {
            "text/plain": "Float64"
          },
          "metadata": {}
        }
      ],
      "execution_count": 5,
      "metadata": {
        "execution": {
          "iopub.status.busy": "2020-11-30T18:59:09.624Z",
          "iopub.execute_input": "2020-11-30T18:59:09.641Z",
          "iopub.status.idle": "2020-11-30T18:59:09.679Z"
        }
      }
    },
    {
      "cell_type": "markdown",
      "source": [
        "**Pendiente de ver variables *Unicode***"
      ],
      "metadata": {
        "nteract": {
          "transient": {
            "deleting": false
          }
        }
      }
    },
    {
      "cell_type": "markdown",
      "source": [
        "Después de asignar un valor a una variable, se puede reasignar un valor de un tipo diferente a esa variable sin ningún problema."
      ],
      "metadata": {}
    },
    {
      "cell_type": "code",
      "source": [
        "my_answer = \"42\""
      ],
      "outputs": [
        {
          "output_type": "execute_result",
          "execution_count": 6,
          "data": {
            "text/plain": "\"42\""
          },
          "metadata": {}
        }
      ],
      "execution_count": 6,
      "metadata": {
        "execution": {
          "iopub.status.busy": "2020-11-30T19:00:57.234Z",
          "iopub.execute_input": "2020-11-30T19:00:57.255Z",
          "iopub.status.idle": "2020-11-30T19:00:57.653Z"
        }
      }
    },
    {
      "cell_type": "code",
      "source": [
        "typeof(my_answer)"
      ],
      "outputs": [
        {
          "output_type": "execute_result",
          "execution_count": 7,
          "data": {
            "text/plain": "String"
          },
          "metadata": {}
        }
      ],
      "execution_count": 7,
      "metadata": {
        "execution": {
          "iopub.status.busy": "2020-11-30T19:00:58.421Z",
          "iopub.execute_input": "2020-11-30T19:00:58.439Z",
          "iopub.status.idle": "2020-11-30T19:00:58.474Z"
        }
      }
    },
    {
      "cell_type": "markdown",
      "source": [
        "## Cómo comentar"
      ],
      "metadata": {}
    },
    {
      "cell_type": "code",
      "source": [
        "# Se pueden dejar comentarios de una sola línea usando el signo de \"gato\""
      ],
      "outputs": [],
      "execution_count": 8,
      "metadata": {
        "execution": {
          "iopub.status.busy": "2020-11-30T19:01:20.274Z",
          "iopub.execute_input": "2020-11-30T19:01:20.290Z",
          "iopub.status.idle": "2020-11-30T19:01:20.316Z"
        }
      }
    },
    {
      "cell_type": "code",
      "source": [
        "#=\n",
        "\n",
        "Para comentarios multilínea,\n",
        "se utiliza la secuencia '#= =#'.\n",
        "\n",
        "=#"
      ],
      "outputs": [],
      "execution_count": 9,
      "metadata": {
        "execution": {
          "iopub.status.busy": "2020-11-30T19:01:30.219Z",
          "iopub.execute_input": "2020-11-30T19:01:30.234Z",
          "iopub.status.idle": "2020-11-30T19:01:30.266Z"
        }
      }
    },
    {
      "cell_type": "markdown",
      "source": [
        "## Sintaxis para matemáticas básicas"
      ],
      "metadata": {}
    },
    {
      "cell_type": "code",
      "source": [
        "sum = 3 + 7"
      ],
      "outputs": [
        {
          "output_type": "execute_result",
          "execution_count": 10,
          "data": {
            "text/plain": "10"
          },
          "metadata": {}
        }
      ],
      "execution_count": 10,
      "metadata": {
        "execution": {
          "iopub.status.busy": "2020-11-30T19:01:43.730Z",
          "iopub.execute_input": "2020-11-30T19:01:43.748Z",
          "iopub.status.idle": "2020-11-30T19:01:44.019Z"
        }
      }
    },
    {
      "cell_type": "code",
      "source": [
        "difference = 10 - 3"
      ],
      "outputs": [
        {
          "output_type": "execute_result",
          "execution_count": 11,
          "data": {
            "text/plain": "7"
          },
          "metadata": {}
        }
      ],
      "execution_count": 11,
      "metadata": {
        "execution": {
          "iopub.status.busy": "2020-11-30T19:01:47.035Z",
          "iopub.execute_input": "2020-11-30T19:01:47.047Z",
          "iopub.status.idle": "2020-11-30T19:01:47.076Z"
        }
      }
    },
    {
      "cell_type": "code",
      "source": [
        "product = 20 * 5"
      ],
      "outputs": [
        {
          "output_type": "execute_result",
          "execution_count": 12,
          "data": {
            "text/plain": "100"
          },
          "metadata": {}
        }
      ],
      "execution_count": 12,
      "metadata": {
        "execution": {
          "iopub.status.busy": "2020-11-30T19:01:53.258Z",
          "iopub.execute_input": "2020-11-30T19:01:53.278Z",
          "iopub.status.idle": "2020-11-30T19:01:53.317Z"
        }
      }
    },
    {
      "cell_type": "code",
      "source": [
        "quotient = 100 / 10"
      ],
      "outputs": [
        {
          "output_type": "execute_result",
          "execution_count": 13,
          "data": {
            "text/plain": "10.0"
          },
          "metadata": {}
        }
      ],
      "execution_count": 13,
      "metadata": {
        "execution": {
          "iopub.status.busy": "2020-11-30T19:01:59.905Z",
          "iopub.execute_input": "2020-11-30T19:01:59.931Z",
          "iopub.status.idle": "2020-11-30T19:02:00.239Z"
        }
      }
    },
    {
      "cell_type": "code",
      "source": [
        "power = 10 ^ 2"
      ],
      "outputs": [
        {
          "output_type": "execute_result",
          "execution_count": 14,
          "data": {
            "text/plain": "100"
          },
          "metadata": {}
        }
      ],
      "execution_count": 14,
      "metadata": {
        "execution": {
          "iopub.status.busy": "2020-11-30T19:02:45.947Z",
          "iopub.execute_input": "2020-11-30T19:02:45.961Z",
          "iopub.status.idle": "2020-11-30T19:02:45.994Z"
        }
      }
    },
    {
      "cell_type": "code",
      "source": [
        "modulus = 101 % 2"
      ],
      "outputs": [
        {
          "output_type": "execute_result",
          "execution_count": 15,
          "data": {
            "text/plain": "1"
          },
          "metadata": {}
        }
      ],
      "execution_count": 15,
      "metadata": {
        "execution": {
          "iopub.status.busy": "2020-11-30T19:02:51.890Z",
          "iopub.execute_input": "2020-11-30T19:02:51.905Z",
          "iopub.status.idle": "2020-11-30T19:02:51.939Z"
        }
      }
    },
    {
      "cell_type": "markdown",
      "source": [
        "### Ejercicios\n",
        "\n",
        "#### 1.1 \n",
        "Busca la documentación para la función `convert`."
      ],
      "metadata": {}
    },
    {
      "cell_type": "code",
      "source": [],
      "outputs": [],
      "execution_count": null,
      "metadata": {
        "collapsed": true,
        "jupyter": {
          "source_hidden": false,
          "outputs_hidden": false
        },
        "nteract": {
          "transient": {
            "deleting": false
          }
        }
      }
    },
    {
      "cell_type": "markdown",
      "source": [
        "#### 1.2 \n",
        "Asigna `365` a una variable llamada `days`. Convierte `days` a un flotante y asígnala a la variable `days_float`."
      ],
      "metadata": {}
    },
    {
      "cell_type": "code",
      "source": [
        "# escribe tu respuesta\n",
        "days = 365\n",
        "days_float = convert(Float64, days)"
      ],
      "outputs": [
        {
          "output_type": "execute_result",
          "execution_count": 22,
          "data": {
            "text/plain": "365.0"
          },
          "metadata": {}
        }
      ],
      "execution_count": 22,
      "metadata": {
        "execution": {
          "iopub.status.busy": "2020-11-30T19:07:18.713Z",
          "iopub.execute_input": "2020-11-30T19:07:18.728Z",
          "iopub.status.idle": "2020-11-30T19:07:18.757Z"
        }
      }
    },
    {
      "cell_type": "code",
      "source": [
        "@assert days == 365\n",
        "@assert days_float == 365.0\n"
      ],
      "outputs": [],
      "execution_count": 23,
      "metadata": {
        "deletable": false,
        "editable": false,
        "hide_input": true,
        "nbgrader": {
          "checksum": "a2dc243275e0310c3b29a745b952f321",
          "grade": true,
          "grade_id": "cell-715f78016beb0489",
          "locked": true,
          "points": 1,
          "schema_version": 1,
          "solution": false
        },
        "execution": {
          "iopub.status.busy": "2020-11-30T19:07:40.200Z",
          "iopub.execute_input": "2020-11-30T19:07:40.215Z",
          "iopub.status.idle": "2020-11-30T19:07:40.236Z"
        }
      }
    },
    {
      "cell_type": "markdown",
      "source": [
        "#### 1.3 \n",
        "Observa qué sucede cuando se ejecuta lo siguiente:\n",
        "\n",
        "```julia\n",
        "convert(Int64, \"1\")\n",
        "```\n",
        "and\n",
        "\n",
        "```julia\n",
        "parse(Int64, \"1\")\n",
        "```"
      ],
      "metadata": {}
    },
    {
      "cell_type": "code",
      "source": [
        "convert(Int64, \"1\")"
      ],
      "outputs": [
        {
          "output_type": "error",
          "ename": "LoadError",
          "evalue": "MethodError: Cannot `convert` an object of type String to an object of type Int64\nClosest candidates are:\n  convert(::Type{T}, !Matched::T) where T<:Number at number.jl:6\n  convert(::Type{T}, !Matched::Number) where T<:Number at number.jl:7\n  convert(::Type{T}, !Matched::Ptr) where T<:Integer at pointer.jl:23\n  ...",
          "traceback": [
            "MethodError: Cannot `convert` an object of type String to an object of type Int64\nClosest candidates are:\n  convert(::Type{T}, !Matched::T) where T<:Number at number.jl:6\n  convert(::Type{T}, !Matched::Number) where T<:Number at number.jl:7\n  convert(::Type{T}, !Matched::Ptr) where T<:Integer at pointer.jl:23\n  ...",
            "",
            "Stacktrace:",
            " [1] top-level scope at In[24]:1",
            " [2] include_string(::Function, ::Module, ::String, ::String) at .\\loading.jl:1091"
          ]
        }
      ],
      "execution_count": 24,
      "metadata": {
        "execution": {
          "iopub.status.busy": "2020-11-30T19:08:06.893Z",
          "iopub.execute_input": "2020-11-30T19:08:06.915Z",
          "iopub.status.idle": "2020-11-30T19:08:07.222Z"
        }
      }
    },
    {
      "cell_type": "code",
      "source": [
        "parse(Int64, \"1\")"
      ],
      "outputs": [
        {
          "output_type": "execute_result",
          "execution_count": 26,
          "data": {
            "text/plain": "1"
          },
          "metadata": {}
        }
      ],
      "execution_count": 26,
      "metadata": {
        "collapsed": true,
        "jupyter": {
          "source_hidden": false,
          "outputs_hidden": false
        },
        "nteract": {
          "transient": {
            "deleting": false
          }
        },
        "execution": {
          "iopub.status.busy": "2020-11-30T19:10:26.208Z",
          "iopub.execute_input": "2020-11-30T19:10:26.224Z",
          "iopub.status.idle": "2020-11-30T19:10:26.259Z"
        }
      }
    },
    {
      "cell_type": "code",
      "source": [],
      "outputs": [],
      "execution_count": null,
      "metadata": {
        "collapsed": true,
        "jupyter": {
          "source_hidden": false,
          "outputs_hidden": false
        },
        "nteract": {
          "transient": {
            "deleting": false
          }
        }
      }
    }
  ],
  "metadata": {
    "kernelspec": {
      "display_name": "Julia 1.0.0",
      "language": "julia",
      "name": "julia-1.0"
    },
    "language_info": {
      "file_extension": ".jl",
      "name": "julia",
      "mimetype": "application/julia",
      "version": "1.5.3"
    },
    "nteract": {
      "version": "0.26.0"
    }
  },
  "nbformat": 4,
  "nbformat_minor": 2
}