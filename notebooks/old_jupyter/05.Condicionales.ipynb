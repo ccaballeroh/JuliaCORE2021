{
  "cells": [
    {
      "cell_type": "markdown",
      "source": [
        "# Condicionales\n",
        "\n",
        "#### con la palabra reservada `if`\n",
        "En Julia, la sintaxis\n",
        "\n",
        "```julia\n",
        "if *condición 1*\n",
        "    *opción 1*\n",
        "elseif *condición 2*\n",
        "    *opción 2*\n",
        "else\n",
        "    *opción 3*\n",
        "end\n",
        "```\n",
        "\n",
        "nos permite evaluar condicionalmente alguna de nuestras opciones.\n",
        "\n",
        "Por ejemplo, podríamos querer implementar la prueba FizzBuzz: dado un número, N, imprime \"Fizz\" si N es divisible por 3, \"Buzz\" si N es divisible por 5 y \"FizzBuzz\" si N es divisible por 3 y 5. De otra manera, solo imprime el número. Ingresa tu opción para `N` aquí:"
      ],
      "metadata": {}
    },
    {
      "cell_type": "code",
      "source": [
        "N = 17"
      ],
      "outputs": [
        {
          "output_type": "execute_result",
          "execution_count": 7,
          "data": {
            "text/plain": "17"
          },
          "metadata": {}
        }
      ],
      "execution_count": 7,
      "metadata": {
        "execution": {
          "iopub.status.busy": "2020-12-01T17:51:08.496Z",
          "iopub.execute_input": "2020-12-01T17:51:08.512Z",
          "iopub.status.idle": "2020-12-01T17:51:08.551Z"
        }
      }
    },
    {
      "cell_type": "code",
      "source": [
        "if (N % 3 == 0) && (N % 5 == 0) # `&&` significa \"AND\"; % calcula el residuo después de la división\n",
        "    println(\"FizzBuzz\")\n",
        "elseif N % 3 == 0\n",
        "    println(\"Fizz\")\n",
        "elseif N % 5 == 0\n",
        "    println(\"Buzz\")\n",
        "else\n",
        "    println(N)\n",
        "end"
      ],
      "outputs": [
        {
          "output_type": "stream",
          "name": "stdout",
          "text": [
            "17\n"
          ]
        }
      ],
      "execution_count": 8,
      "metadata": {
        "execution": {
          "iopub.status.busy": "2020-12-01T17:51:09.208Z",
          "iopub.execute_input": "2020-12-01T17:51:09.229Z",
          "iopub.status.idle": "2020-12-01T17:51:09.258Z"
        }
      }
    },
    {
      "cell_type": "markdown",
      "source": [
        "#### con operadores ternarios\n",
        "\n",
        "Para este último bloque, podríamos usar en su lugar el operador ternario con la sintaxis:\n",
        "\n",
        "```julia\n",
        "a ? b : c\n",
        "```\n",
        "\n",
        "que es igual a\n",
        "\n",
        "```julia\n",
        "if a\n",
        "    b\n",
        "else\n",
        "    c\n",
        "end\n",
        "```"
      ],
      "metadata": {}
    },
    {
      "cell_type": "markdown",
      "source": [
        "Ahora, digamos que queremos regresar el más grande de dos números. Da los valores para `x` y `y` aquí:"
      ],
      "metadata": {}
    },
    {
      "cell_type": "code",
      "source": [
        "x = 15\n",
        "y = 10"
      ],
      "outputs": [
        {
          "output_type": "execute_result",
          "execution_count": 11,
          "data": {
            "text/plain": "10"
          },
          "metadata": {}
        }
      ],
      "execution_count": 11,
      "metadata": {
        "execution": {
          "iopub.status.busy": "2020-12-01T17:52:18.443Z",
          "iopub.execute_input": "2020-12-01T17:52:18.457Z",
          "iopub.status.idle": "2020-12-01T17:52:18.489Z"
        }
      }
    },
    {
      "cell_type": "markdown",
      "source": [
        "Usando las palabras reservadas `if` y `else`, podríamos escribir:"
      ],
      "metadata": {}
    },
    {
      "cell_type": "code",
      "source": [
        "if x > y\n",
        "    x\n",
        "else\n",
        "    y\n",
        "end"
      ],
      "outputs": [
        {
          "output_type": "execute_result",
          "execution_count": 12,
          "data": {
            "text/plain": "15"
          },
          "metadata": {}
        }
      ],
      "execution_count": 12,
      "metadata": {
        "execution": {
          "iopub.status.busy": "2020-12-01T17:52:20.445Z",
          "iopub.execute_input": "2020-12-01T17:52:20.460Z",
          "iopub.status.idle": "2020-12-01T17:52:20.488Z"
        }
      }
    },
    {
      "cell_type": "markdown",
      "source": [
        "y como operador ternario, el condicional se ve así:"
      ],
      "metadata": {}
    },
    {
      "cell_type": "code",
      "source": [
        "(x > y) ? x : y"
      ],
      "outputs": [
        {
          "output_type": "execute_result",
          "execution_count": 13,
          "data": {
            "text/plain": "15"
          },
          "metadata": {}
        }
      ],
      "execution_count": 13,
      "metadata": {
        "execution": {
          "iopub.status.busy": "2020-12-01T17:52:39.919Z",
          "iopub.execute_input": "2020-12-01T17:52:39.934Z",
          "iopub.status.idle": "2020-12-01T17:52:39.966Z"
        }
      }
    },
    {
      "cell_type": "markdown",
      "source": [
        "#### con evaluación en cortocircuito\n",
        "\n",
        "Ya hemos visto expresiones con la sintaxis\n",
        "\n",
        "```julia\n",
        "a && b\n",
        "```\n",
        "que regresa `true` si ambos `a` y `b` son `true`. Por supuesto, si `a` es `false`, Julia ni siquiera necesita saber el valor de `b` para determinar que el resultado de todo será `false`. Así que Julia ni siquiera necesita verificar qué es `b`; puede solo \"poner en cortocircuito\" y regresar `false` de inmediato. El segundo argumento `b` podría ser una expresión más complicada como una llamada a una función son un efecto secundario, en cuyo caso ni siquiera será llamado:"
      ],
      "metadata": {}
    },
    {
      "cell_type": "code",
      "source": [
        "typeof(true)"
      ],
      "outputs": [
        {
          "output_type": "execute_result",
          "execution_count": 15,
          "data": {
            "text/plain": "Bool"
          },
          "metadata": {}
        }
      ],
      "execution_count": 15,
      "metadata": {
        "collapsed": true,
        "jupyter": {
          "source_hidden": false,
          "outputs_hidden": false
        },
        "nteract": {
          "transient": {
            "deleting": false
          }
        },
        "execution": {
          "iopub.status.busy": "2020-12-01T17:54:18.622Z",
          "iopub.execute_input": "2020-12-01T17:54:18.636Z",
          "iopub.status.idle": "2020-12-01T17:54:18.670Z"
        }
      }
    },
    {
      "cell_type": "code",
      "source": [
        "true && (println(\"hi\"); true)"
      ],
      "outputs": [
        {
          "output_type": "stream",
          "name": "stdout",
          "text": [
            "hi\n"
          ]
        },
        {
          "output_type": "execute_result",
          "execution_count": 31,
          "data": {
            "text/plain": "true"
          },
          "metadata": {}
        }
      ],
      "execution_count": 31,
      "metadata": {
        "execution": {
          "iopub.status.busy": "2020-12-01T18:11:53.521Z",
          "iopub.execute_input": "2020-12-01T18:11:53.547Z",
          "iopub.status.idle": "2020-12-01T18:11:53.591Z"
        }
      }
    },
    {
      "cell_type": "code",
      "source": [
        "true && (println(\"hi\"); true)"
      ],
      "outputs": [
        {
          "output_type": "stream",
          "name": "stdout",
          "text": [
            "hi\n"
          ]
        },
        {
          "output_type": "execute_result",
          "execution_count": 17,
          "data": {
            "text/plain": "true"
          },
          "metadata": {}
        }
      ],
      "execution_count": 17,
      "metadata": {
        "execution": {
          "iopub.status.busy": "2020-12-01T17:55:08.038Z",
          "iopub.execute_input": "2020-12-01T17:55:08.053Z",
          "iopub.status.idle": "2020-12-01T17:55:08.094Z"
        }
      }
    },
    {
      "cell_type": "markdown",
      "source": [
        "Por el otro lado, si `a` es `true`, Julia sabe que puede solo regresar el valor de `b` como la expresión en general. ¡Esto significa que `b` no necesita necesariamente evaluar a `true` o `false`! Incluso podría ser que `b` fuera un error:"
      ],
      "metadata": {}
    },
    {
      "cell_type": "code",
      "source": [
        "(x > 0) && error(\"x cannot be greater than 0\")"
      ],
      "outputs": [
        {
          "output_type": "error",
          "ename": "LoadError",
          "evalue": "x cannot be greater than 0",
          "traceback": [
            "x cannot be greater than 0",
            "",
            "Stacktrace:",
            " [1] error(::String) at .\\error.jl:33",
            " [2] top-level scope at In[20]:1",
            " [3] include_string(::Function, ::Module, ::String, ::String) at .\\loading.jl:1091"
          ]
        }
      ],
      "execution_count": 20,
      "metadata": {
        "execution": {
          "iopub.status.busy": "2020-12-01T17:56:47.127Z",
          "iopub.execute_input": "2020-12-01T17:56:47.140Z",
          "iopub.status.idle": "2020-12-01T17:56:41.889Z"
        }
      }
    },
    {
      "cell_type": "markdown",
      "source": [
        "De manera similar, verifica el operador `||`, que también usa evaluación de cortocircuito para realizar la operación *or*."
      ],
      "metadata": {}
    },
    {
      "cell_type": "code",
      "source": [
        "true || println(\"hi\")"
      ],
      "outputs": [
        {
          "output_type": "execute_result",
          "execution_count": 21,
          "data": {
            "text/plain": "true"
          },
          "metadata": {}
        }
      ],
      "execution_count": 21,
      "metadata": {
        "execution": {
          "iopub.status.busy": "2020-12-01T17:57:13.151Z",
          "iopub.execute_input": "2020-12-01T17:57:13.167Z",
          "iopub.status.idle": "2020-12-01T17:57:13.202Z"
        }
      }
    },
    {
      "cell_type": "markdown",
      "source": [
        "y..."
      ],
      "metadata": {}
    },
    {
      "cell_type": "code",
      "source": [
        "false || println(\"hi\")"
      ],
      "outputs": [
        {
          "output_type": "stream",
          "name": "stdout",
          "text": [
            "hi\n"
          ]
        }
      ],
      "execution_count": 22,
      "metadata": {
        "execution": {
          "iopub.status.busy": "2020-12-01T17:57:28.305Z",
          "iopub.execute_input": "2020-12-01T17:57:28.320Z",
          "iopub.status.idle": "2020-12-01T17:57:28.352Z"
        }
      }
    },
    {
      "cell_type": "markdown",
      "source": [
        "### Ejercicios\n",
        "\n",
        "#### 5.1\n",
        "Escribe un enunciado condicional que imprima un número si el número es par y la cadena \"odd\" si el número es impar."
      ],
      "metadata": {}
    },
    {
      "cell_type": "code",
      "source": [
        "# Ingresa tu respuesta...\n",
        "\n",
        "numero = 10\n",
        "\n",
        "if (numero % 2 == 0)\n",
        "  println(numero)\n",
        "else\n",
        "  println(\"odd\")\n",
        "end"
      ],
      "outputs": [
        {
          "output_type": "stream",
          "name": "stdout",
          "text": [
            "10\n"
          ]
        }
      ],
      "execution_count": 29,
      "metadata": {
        "collapsed": true,
        "jupyter": {
          "source_hidden": false,
          "outputs_hidden": false
        },
        "nteract": {
          "transient": {
            "deleting": false
          }
        },
        "execution": {
          "iopub.status.busy": "2020-12-01T18:01:23.266Z",
          "iopub.execute_input": "2020-12-01T18:01:23.282Z",
          "iopub.status.idle": "2020-12-01T18:01:23.321Z"
        }
      }
    },
    {
      "cell_type": "markdown",
      "source": [
        "#### 5.2\n",
        "Escribe nuevamente el código del ejercicio 5.1, pero esta vez utiliza un operador ternario."
      ],
      "metadata": {}
    },
    {
      "cell_type": "code",
      "source": [
        "(numero % 2 == 0) ? numero : println(\"odd\")"
      ],
      "outputs": [
        {
          "output_type": "execute_result",
          "execution_count": 30,
          "data": {
            "text/plain": "10"
          },
          "metadata": {}
        }
      ],
      "execution_count": 30,
      "metadata": {
        "collapsed": true,
        "jupyter": {
          "source_hidden": false,
          "outputs_hidden": false
        },
        "nteract": {
          "transient": {
            "deleting": false
          }
        },
        "execution": {
          "iopub.status.busy": "2020-12-01T18:01:51.077Z",
          "iopub.execute_input": "2020-12-01T18:01:51.098Z",
          "iopub.status.idle": "2020-12-01T18:01:51.135Z"
        }
      }
    }
  ],
  "metadata": {
    "language_info": {
      "file_extension": ".jl",
      "name": "julia",
      "mimetype": "application/julia",
      "version": "1.5.3"
    },
    "kernelspec": {
      "name": "julia-1.0",
      "display_name": "Julia 1.0.3",
      "language": "julia"
    },
    "nteract": {
      "version": "0.27.0"
    }
  },
  "nbformat": 4,
  "nbformat_minor": 3
}