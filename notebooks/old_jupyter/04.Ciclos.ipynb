{
  "cells": [
    {
      "cell_type": "markdown",
      "source": [
        "# Ciclos\n",
        "\n",
        "Temas:\n",
        "\n",
        "1. Ciclos `while`\n",
        "2. Ciclos `for`\n",
        "<br>\n",
        "\n",
        "## Ciclos `while`\n",
        "\n",
        "La sintaxis para un ciclo `while` es:\n",
        "\n",
        "```julia\n",
        "while *condición*\n",
        "    *cuerpo del ciclo*\n",
        "end\n",
        "```\n",
        "\n",
        "Por ejemplo, podríamos usar `while` para contar o para iterar sobre un arreglo."
      ],
      "metadata": {}
    },
    {
      "cell_type": "code",
      "source": [
        "n = 0\n",
        "while n < 10\n",
        "    n += 1  # n = n + 1\n",
        "    println(n)\n",
        "end\n",
        "n"
      ],
      "outputs": [
        {
          "output_type": "stream",
          "name": "stdout",
          "text": [
            "1\n",
            "2\n",
            "3\n",
            "4\n",
            "5\n",
            "6\n",
            "7\n",
            "8\n",
            "9\n",
            "10\n"
          ]
        },
        {
          "output_type": "execute_result",
          "execution_count": 3,
          "data": {
            "text/plain": "10"
          },
          "metadata": {}
        }
      ],
      "execution_count": 3,
      "metadata": {
        "execution": {
          "iopub.status.busy": "2020-12-01T17:10:50.282Z",
          "iopub.execute_input": "2020-12-01T17:10:50.304Z",
          "iopub.status.idle": "2020-12-01T17:10:50.350Z"
        }
      }
    },
    {
      "cell_type": "code",
      "source": [
        "myfriends = [\"Ted\", \"Robin\", \"Barney\", \"Lily\", \"Marshall\"]\n",
        "\n",
        "i = 1\n",
        "while i <= length(myfriends) \n",
        "    friend = myfriends[i]\n",
        "    println(\"Hola, $friend, me da gusto verte.\")\n",
        "    i += 1\n",
        "end"
      ],
      "outputs": [
        {
          "output_type": "stream",
          "name": "stdout",
          "text": [
            "Hola, Ted, me da gusto verte.\n",
            "Hola, Robin, me da gusto verte.\n",
            "Hola, Barney, me da gusto verte.\n",
            "Hola, Lily, me da gusto verte.\n",
            "Hola, Marshall, me da gusto verte.\n"
          ]
        }
      ],
      "execution_count": 4,
      "metadata": {
        "execution": {
          "iopub.status.busy": "2020-12-01T17:12:16.306Z",
          "iopub.execute_input": "2020-12-01T17:12:16.338Z",
          "iopub.status.idle": "2020-12-01T17:12:16.379Z"
        }
      }
    },
    {
      "cell_type": "markdown",
      "source": [
        "## Ciclos `for`\n",
        "\n",
        "La sintaxis para un ciclo `for` es:\n",
        "\n",
        "```julia\n",
        "for *var* in *loop iterable*\n",
        "    *loop body*\n",
        "end\n",
        "```\n",
        "\n",
        "Podríamos usar un ciclo `for` para generar los mismos resultados que cualquiera de los ejemplos anteriores:"
      ],
      "metadata": {}
    },
    {
      "cell_type": "code",
      "source": [
        "\n",
        "collect(1:10)"
      ],
      "outputs": [
        {
          "output_type": "execute_result",
          "execution_count": 8,
          "data": {
            "text/plain": "10-element Array{Int64,1}:\n  1\n  2\n  3\n  4\n  5\n  6\n  7\n  8\n  9\n 10"
          },
          "metadata": {}
        }
      ],
      "execution_count": 8,
      "metadata": {
        "collapsed": true,
        "jupyter": {
          "source_hidden": false,
          "outputs_hidden": false
        },
        "nteract": {
          "transient": {
            "deleting": false
          }
        },
        "execution": {
          "iopub.status.busy": "2020-12-01T17:15:28.215Z",
          "iopub.execute_input": "2020-12-01T17:15:28.231Z",
          "iopub.status.idle": "2020-12-01T17:15:28.270Z"
        }
      }
    },
    {
      "cell_type": "code",
      "source": [
        "for n in 1:10\n",
        "    println(n)\n",
        "end"
      ],
      "outputs": [
        {
          "output_type": "stream",
          "name": "stdout",
          "text": [
            "1\n",
            "2\n",
            "3\n",
            "4\n",
            "5\n",
            "6\n",
            "7\n",
            "8\n",
            "9\n",
            "10\n"
          ]
        }
      ],
      "execution_count": 9,
      "metadata": {
        "execution": {
          "iopub.status.busy": "2020-12-01T17:15:40.736Z",
          "iopub.execute_input": "2020-12-01T17:15:40.750Z",
          "iopub.status.idle": "2020-12-01T17:15:40.777Z"
        }
      }
    },
    {
      "cell_type": "code",
      "source": [
        "myfriends = [\"Ted\", \"Robin\", \"Barney\", \"Lily\", \"Marshall\"]\n",
        "\n",
        "for friend in myfriends\n",
        "    println(\"Hola, $friend, me da gusto verte.\")\n",
        "end"
      ],
      "outputs": [
        {
          "output_type": "stream",
          "name": "stdout",
          "text": [
            "Hola, Ted, me da gusto verte.\n",
            "Hola, Robin, me da gusto verte.\n",
            "Hola, Barney, me da gusto verte.\n",
            "Hola, Lily, me da gusto verte.\n",
            "Hola, Marshall, me da gusto verte.\n"
          ]
        }
      ],
      "execution_count": 10,
      "metadata": {
        "execution": {
          "iopub.status.busy": "2020-12-01T17:16:44.102Z",
          "iopub.execute_input": "2020-12-01T17:16:44.115Z",
          "iopub.status.idle": "2020-12-01T17:16:44.146Z"
        }
      }
    },
    {
      "cell_type": "markdown",
      "source": [
        "Usemos los ciclos `for` para crear unas tablas de suma, en donde el valor de cada entrada es la suma de los índices de su renglón y su columna.\n",
        "\n",
        "Primero, inicialicemos el arreglo con ceros."
      ],
      "metadata": {}
    },
    {
      "cell_type": "code",
      "source": [
        "m, n = 5, 10\n",
        "A = fill(0, (m, n))"
      ],
      "outputs": [
        {
          "output_type": "execute_result",
          "execution_count": 13,
          "data": {
            "text/plain": "5×10 Array{Int64,2}:\n 0  0  0  0  0  0  0  0  0  0\n 0  0  0  0  0  0  0  0  0  0\n 0  0  0  0  0  0  0  0  0  0\n 0  0  0  0  0  0  0  0  0  0\n 0  0  0  0  0  0  0  0  0  0"
          },
          "metadata": {}
        }
      ],
      "execution_count": 13,
      "metadata": {
        "execution": {
          "iopub.status.busy": "2020-12-01T17:19:14.164Z",
          "iopub.execute_input": "2020-12-01T17:19:14.178Z",
          "iopub.status.idle": "2020-12-01T17:19:14.212Z"
        }
      }
    },
    {
      "cell_type": "code",
      "source": [
        "for i in 1:m\n",
        "    for j in 1:n\n",
        "        A[i, j] = i + j\n",
        "    end\n",
        "end\n",
        "A"
      ],
      "outputs": [
        {
          "output_type": "execute_result",
          "execution_count": 12,
          "data": {
            "text/plain": "5×5 Array{Int64,2}:\n 2  3  4  5   6\n 3  4  5  6   7\n 4  5  6  7   8\n 5  6  7  8   9\n 6  7  8  9  10"
          },
          "metadata": {}
        }
      ],
      "execution_count": 12,
      "metadata": {
        "execution": {
          "iopub.status.busy": "2020-12-01T17:16:55.514Z",
          "iopub.execute_input": "2020-12-01T17:16:55.529Z",
          "iopub.status.idle": "2020-12-01T17:16:55.562Z"
        }
      }
    },
    {
      "cell_type": "markdown",
      "source": [
        "Aquí hay un poco de \"azúcar sintáctica\" para ese mismo ciclo `for` anidado:"
      ],
      "metadata": {}
    },
    {
      "cell_type": "code",
      "source": [
        "B = fill(0, (m, n))"
      ],
      "outputs": [
        {
          "output_type": "execute_result",
          "execution_count": 14,
          "data": {
            "text/plain": "5×10 Array{Int64,2}:\n 0  0  0  0  0  0  0  0  0  0\n 0  0  0  0  0  0  0  0  0  0\n 0  0  0  0  0  0  0  0  0  0\n 0  0  0  0  0  0  0  0  0  0\n 0  0  0  0  0  0  0  0  0  0"
          },
          "metadata": {}
        }
      ],
      "execution_count": 14,
      "metadata": {
        "execution": {
          "iopub.status.busy": "2020-12-01T17:19:24.682Z",
          "iopub.execute_input": "2020-12-01T17:19:24.788Z",
          "iopub.status.idle": "2020-12-01T17:19:24.821Z"
        }
      }
    },
    {
      "cell_type": "code",
      "source": [
        "for i in 1:m, j in 1:n\n",
        "    B[i, j] = i + j\n",
        "end\n",
        "B"
      ],
      "outputs": [
        {
          "output_type": "execute_result",
          "execution_count": 15,
          "data": {
            "text/plain": "5×10 Array{Int64,2}:\n 2  3  4  5   6   7   8   9  10  11\n 3  4  5  6   7   8   9  10  11  12\n 4  5  6  7   8   9  10  11  12  13\n 5  6  7  8   9  10  11  12  13  14\n 6  7  8  9  10  11  12  13  14  15"
          },
          "metadata": {}
        }
      ],
      "execution_count": 15,
      "metadata": {
        "execution": {
          "iopub.status.busy": "2020-12-01T17:19:37.529Z",
          "iopub.execute_input": "2020-12-01T17:19:37.545Z",
          "iopub.status.idle": "2020-12-01T17:19:37.578Z"
        }
      }
    },
    {
      "cell_type": "markdown",
      "source": [
        "La forma más \"Julia\" de crear esta tabla hubiera sido con una comprensión de arreglos."
      ],
      "metadata": {}
    },
    {
      "cell_type": "markdown",
      "source": [
        "La comprensión de arreglos nos recuerda la notación matemática para definir conjuntos: $$\\{i+j \\quad | \\quad i\\in [1, n], \\quad j \\in [1, m] \\}$$"
      ],
      "metadata": {
        "nteract": {
          "transient": {
            "deleting": false
          }
        }
      }
    },
    {
      "cell_type": "code",
      "source": [
        "C = [i + j for i in 1:m, j in 1:n]"
      ],
      "outputs": [
        {
          "output_type": "error",
          "ename": "LoadError",
          "evalue": "UndefVarError: m not defined",
          "traceback": [
            "UndefVarError: m not defined",
            "",
            "Stacktrace:",
            " [1] top-level scope at In[2]:1",
            " [2] include_string(::Function, ::Module, ::String, ::String) at .\\loading.jl:1091"
          ]
        }
      ],
      "execution_count": 2,
      "metadata": {
        "execution": {
          "iopub.status.busy": "2020-12-02T03:43:01.230Z",
          "iopub.execute_input": "2020-12-02T03:43:01.246Z",
          "iopub.status.idle": "2020-12-01T17:22:23.950Z"
        }
      }
    },
    {
      "cell_type": "markdown",
      "source": [
        "### Ejercicios\n",
        "\n",
        "#### 4.1\n",
        "Cicla sobre los enteros del 1 al 100 e imprime sus cuadrados."
      ],
      "metadata": {}
    },
    {
      "cell_type": "code",
      "source": [
        "# Ingresa tu respuesta...\n",
        "for i in 1:100\n",
        "  println(i^2)\n",
        "end"
      ],
      "outputs": [
        {
          "output_type": "stream",
          "name": "stdout",
          "text": [
            "1\n",
            "4\n",
            "9\n",
            "16\n",
            "25\n",
            "36\n",
            "49\n",
            "64\n",
            "81\n",
            "100\n",
            "121\n",
            "144\n",
            "169\n",
            "196\n",
            "225\n",
            "256\n",
            "289\n",
            "324\n",
            "361\n",
            "400\n",
            "441\n",
            "484\n",
            "529\n",
            "576\n",
            "625\n",
            "676\n",
            "729\n",
            "784\n",
            "841\n",
            "900\n",
            "961\n",
            "1024\n",
            "1089\n",
            "1156\n",
            "1225\n",
            "1296\n",
            "1369\n",
            "1444\n",
            "1521\n",
            "1600\n",
            "1681\n",
            "1764\n",
            "1849\n",
            "1936\n",
            "2025\n",
            "2116\n",
            "2209\n",
            "2304\n",
            "2401\n",
            "2500\n",
            "2601\n",
            "2704\n",
            "2809\n",
            "2916\n",
            "3025\n",
            "3136\n",
            "3249\n",
            "3364\n",
            "3481\n",
            "3600\n",
            "3721\n",
            "3844\n",
            "3969\n",
            "4096\n",
            "4225\n",
            "4356\n",
            "4489\n",
            "4624\n",
            "4761\n",
            "4900\n",
            "5041\n",
            "5184\n",
            "5329\n",
            "5476\n",
            "5625\n",
            "5776\n",
            "5929\n",
            "6084\n",
            "6241\n",
            "6400\n",
            "6561\n",
            "6724\n",
            "6889\n",
            "7056\n",
            "7225\n",
            "7396\n",
            "7569\n",
            "7744\n",
            "7921\n",
            "8100\n",
            "8281\n",
            "8464\n",
            "8649\n",
            "8836\n",
            "9025\n",
            "9216\n",
            "9409\n",
            "9604\n",
            "9801\n",
            "10000\n"
          ]
        }
      ],
      "execution_count": 18,
      "metadata": {
        "collapsed": true,
        "jupyter": {
          "source_hidden": false,
          "outputs_hidden": false
        },
        "nteract": {
          "transient": {
            "deleting": false
          }
        },
        "execution": {
          "iopub.status.busy": "2020-12-01T17:23:07.449Z",
          "iopub.execute_input": "2020-12-01T17:23:07.467Z",
          "iopub.status.idle": "2020-12-01T17:23:07.510Z"
        }
      }
    },
    {
      "cell_type": "markdown",
      "source": [
        "#### 4.2\n",
        "Agrega al código anterior un poco para crear un diccionario llamado `squares` que guarde los enteros y sus cuadrados como pares *key* y *valor* de tal forma que:\n",
        "\n",
        "```julia\n",
        "squares[10] == 100\n",
        "```"
      ],
      "metadata": {}
    },
    {
      "cell_type": "code",
      "source": [
        "# Ingresa tu respuesta...\n",
        "\n",
        "squares = Dict{Int64, Int64}()\n",
        "for i in 1:100\n",
        "  squares[i] = i^2\n",
        "end\n",
        "\n",
        "squares[10]"
      ],
      "outputs": [
        {
          "output_type": "execute_result",
          "execution_count": 7,
          "data": {
            "text/plain": "100"
          },
          "metadata": {}
        }
      ],
      "execution_count": 7,
      "metadata": {
        "collapsed": true,
        "jupyter": {
          "source_hidden": false,
          "outputs_hidden": false
        },
        "nteract": {
          "transient": {
            "deleting": false
          }
        },
        "execution": {
          "iopub.status.busy": "2020-12-01T17:47:03.505Z",
          "iopub.execute_input": "2020-12-01T17:47:03.522Z",
          "iopub.status.idle": "2020-12-01T17:47:03.562Z"
        }
      }
    },
    {
      "cell_type": "code",
      "source": [
        "squares"
      ],
      "outputs": [
        {
          "output_type": "execute_result",
          "execution_count": 8,
          "data": {
            "text/plain": "Dict{Int64,Int64} with 100 entries:\n  68 => 4624\n  2  => 4\n  89 => 7921\n  11 => 121\n  39 => 1521\n  46 => 2116\n  85 => 7225\n  25 => 625\n  55 => 3025\n  42 => 1764\n  29 => 841\n  58 => 3364\n  66 => 4356\n  59 => 3481\n  8  => 64\n  74 => 5476\n  95 => 9025\n  57 => 3249\n  20 => 400\n  90 => 8100\n  14 => 196\n  31 => 961\n  78 => 6084\n  70 => 4900\n  33 => 1089\n  ⋮  => ⋮"
          },
          "metadata": {}
        }
      ],
      "execution_count": 8,
      "metadata": {
        "collapsed": true,
        "jupyter": {
          "source_hidden": false,
          "outputs_hidden": false
        },
        "nteract": {
          "transient": {
            "deleting": false
          }
        },
        "execution": {
          "iopub.status.busy": "2020-12-01T17:47:04.345Z",
          "iopub.execute_input": "2020-12-01T17:47:04.362Z",
          "iopub.status.idle": "2020-12-01T17:47:04.394Z"
        }
      }
    },
    {
      "cell_type": "code",
      "source": [
        "@assert squares[10] == 100\n",
        "@assert squares[11] == 121"
      ],
      "outputs": [],
      "execution_count": 22,
      "metadata": {
        "execution": {
          "iopub.status.busy": "2020-12-01T17:28:04.726Z",
          "iopub.execute_input": "2020-12-01T17:28:04.741Z",
          "iopub.status.idle": "2020-12-01T17:28:04.930Z"
        }
      }
    },
    {
      "cell_type": "markdown",
      "source": [
        "#### 4.3\n",
        "Utiliza una comprensión de arreglos para crear un arreglo llamado `squares_arr` que guarde los cuadrados para todos los enteros entre 1 y 100."
      ],
      "metadata": {}
    },
    {
      "cell_type": "code",
      "source": [
        "# Ingresa tu respuesta...\n",
        "squares_arr = [i^2 for i in 1:100]\n",
        "squares_arr[10]"
      ],
      "outputs": [
        {
          "output_type": "execute_result",
          "execution_count": 25,
          "data": {
            "text/plain": "100"
          },
          "metadata": {}
        }
      ],
      "execution_count": 25,
      "metadata": {
        "collapsed": true,
        "jupyter": {
          "source_hidden": false,
          "outputs_hidden": false
        },
        "nteract": {
          "transient": {
            "deleting": false
          }
        },
        "execution": {
          "iopub.status.busy": "2020-12-01T17:29:34.150Z",
          "iopub.execute_input": "2020-12-01T17:29:34.163Z",
          "iopub.status.idle": "2020-12-01T17:29:34.192Z"
        }
      }
    },
    {
      "cell_type": "code",
      "source": [
        "@assert length(squares_arr) == 100\n",
        "@assert sum(squares_arr) == 338350"
      ],
      "outputs": [],
      "execution_count": 24,
      "metadata": {
        "execution": {
          "iopub.status.busy": "2020-12-01T17:29:20.373Z",
          "iopub.execute_input": "2020-12-01T17:29:20.387Z",
          "iopub.status.idle": "2020-12-01T17:29:20.413Z"
        }
      }
    }
  ],
  "metadata": {
    "language_info": {
      "file_extension": ".jl",
      "name": "julia",
      "mimetype": "application/julia",
      "version": "1.5.3"
    },
    "kernelspec": {
      "name": "julia-1.0",
      "display_name": "Julia 1.0.3",
      "language": "julia"
    },
    "nteract": {
      "version": "0.27.0"
    }
  },
  "nbformat": 4,
  "nbformat_minor": 3
}