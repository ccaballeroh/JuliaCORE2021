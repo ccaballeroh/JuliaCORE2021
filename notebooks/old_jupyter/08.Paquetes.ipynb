{
  "cells": [
    {
      "cell_type": "markdown",
      "source": [
        "# Paquetes\n",
        "\n",
        "Julia tienen más de 4000 paquetes registrados, lo que hace a los paquetes una parte enorme del ecosistema de Julia.\n",
        "\n",
        "Aun así, el ecosistema de paquetes aún no está completamente maduro. De forma notable, tenemos llamadas a funciones de primera clase a otros lenguajes, lo que proporciona interfaces excelentes a funciones ajenas. Fácilmente podemos llamar a Python o a R, por ejemplo con `PyCall` o `Rcall`.\n",
        "\n",
        "Esto significa que no tienes que esperar a que el ecosistema de Julia esté maduro por completo y que mudarse a Julia no significa que tengas que olvidar tu paquete/biblioteca de otro lenguaje,\n",
        "\n",
        "Para ver todos los paquetes disponibles, revisa:\n",
        "\n",
        "https://julialang.org/packages/\n",
        "o\n",
        "https://juliaobserver.com/\n",
        "\n",
        "Por ahora, aprendamos cómo usar un paquete."
      ],
      "metadata": {}
    },
    {
      "cell_type": "markdown",
      "source": [
        "La primera vez que usas un paquete en una instalación determinada de Julia, necesitas usar el gestor de paquetes para agregarlo explícitamente:"
      ],
      "metadata": {}
    },
    {
      "cell_type": "code",
      "source": [
        "import Pkg\n",
        "Pkg.add(\"Example\")"
      ],
      "outputs": [
        {
          "output_type": "stream",
          "name": "stderr",
          "text": [
            "\u001b[32m\u001b[1m   Updating\u001b[22m\u001b[39m registry at `D:\\.julia\\registries\\General`\n",
            "\u001b[32m\u001b[1m  Resolving\u001b[22m\u001b[39m package versions...\n",
            "\u001b[32m\u001b[1mUpdating\u001b[22m\u001b[39m `D:\\.julia\\environments\\v1.5\\Project.toml`\n",
            " \u001b[90m [7876af07] \u001b[39m\u001b[92m+ Example v0.5.3\u001b[39m\n",
            "\u001b[32m\u001b[1mUpdating\u001b[22m\u001b[39m `D:\\.julia\\environments\\v1.5\\Manifest.toml`\n",
            " \u001b[90m [7876af07] \u001b[39m\u001b[92m+ Example v0.5.3\u001b[39m\n"
          ]
        }
      ],
      "execution_count": 1,
      "metadata": {
        "execution": {
          "iopub.status.busy": "2020-12-02T17:38:17.683Z",
          "iopub.execute_input": "2020-12-02T17:38:18.541Z",
          "iopub.status.idle": "2020-12-02T17:38:35.894Z"
        }
      }
    },
    {
      "cell_type": "markdown",
      "source": [
        "Cada vez que uses Julia (iniciar una nueva sesión en el REPL o abras un *notebook* por primera vez, por ejemplo), solo debes cargar el paquete con la palabra reservada `using`."
      ],
      "metadata": {}
    },
    {
      "cell_type": "code",
      "source": [
        "using Example"
      ],
      "outputs": [],
      "execution_count": 2,
      "metadata": {
        "execution": {
          "iopub.status.busy": "2020-12-02T17:39:13.531Z",
          "iopub.execute_input": "2020-12-02T17:39:13.546Z",
          "iopub.status.idle": "2020-12-02T17:39:13.568Z"
        }
      }
    },
    {
      "cell_type": "markdown",
      "source": [
        "En el código funte de `Example.jl` en\n",
        "https://github.com/JuliaLang/Example.jl/blob/master/src/Example.jl\n",
        "vemos la siguiente función declarada:\n",
        "\n",
        "```\n",
        "hello(who::String) = \"Hello, $who\"\n",
        "```\n",
        "\n",
        "Después de haber cargado `Example`, deberíamos ser capaces de llamar a `hello`"
      ],
      "metadata": {}
    },
    {
      "cell_type": "code",
      "source": [
        "hello(\"it's me\")"
      ],
      "outputs": [],
      "execution_count": null,
      "metadata": {
        "execution": {
          "iopub.status.busy": "2020-12-02T05:13:42.538Z",
          "iopub.execute_input": "2020-12-02T05:13:42.548Z",
          "iopub.status.idle": "2020-12-02T05:13:43.358Z"
        }
      }
    },
    {
      "cell_type": "markdown",
      "source": [
        "### Ejercicios\n",
        "\n",
        "#### 8.1\n",
        "Carga el paquete `Primes` (código fuente en https://github.com/JuliaMath/Primes.jl)."
      ],
      "metadata": {}
    },
    {
      "cell_type": "code",
      "source": [
        "Pkg.add(\"Primes\")"
      ],
      "outputs": [
        {
          "output_type": "stream",
          "name": "stderr",
          "text": [
            "\u001b[32m\u001b[1m  Resolving\u001b[22m\u001b[39m package versions...\n",
            "\u001b[32m\u001b[1m  Installed\u001b[22m\u001b[39m Primes ─ v0.5.0\n",
            "\u001b[32m\u001b[1mUpdating\u001b[22m\u001b[39m `D:\\.julia\\environments\\v1.5\\Project.toml`\n",
            " \u001b[90m [27ebfcd6] \u001b[39m\u001b[92m+ Primes v0.5.0\u001b[39m\n",
            "\u001b[32m\u001b[1mUpdating\u001b[22m\u001b[39m `D:\\.julia\\environments\\v1.5\\Manifest.toml`\n",
            " \u001b[90m [27ebfcd6] \u001b[39m\u001b[92m+ Primes v0.5.0\u001b[39m\n"
          ]
        }
      ],
      "execution_count": 3,
      "metadata": {
        "collapsed": true,
        "jupyter": {
          "source_hidden": false,
          "outputs_hidden": false
        },
        "nteract": {
          "transient": {
            "deleting": false
          }
        },
        "execution": {
          "iopub.status.busy": "2020-12-02T17:43:11.728Z",
          "iopub.execute_input": "2020-12-02T17:43:11.737Z",
          "iopub.status.idle": "2020-12-02T17:43:13.957Z"
        }
      }
    },
    {
      "cell_type": "code",
      "source": [
        "using Primes"
      ],
      "outputs": [
        {
          "output_type": "stream",
          "name": "stderr",
          "text": [
            "┌ Info: Precompiling Primes [27ebfcd6-29c5-5fa9-bf4b-fb8fc14df3ae]\n",
            "└ @ Base loading.jl:1278\n"
          ]
        }
      ],
      "execution_count": 4,
      "metadata": {
        "collapsed": true,
        "jupyter": {
          "source_hidden": false,
          "outputs_hidden": false
        },
        "nteract": {
          "transient": {
            "deleting": false
          }
        },
        "execution": {
          "iopub.status.busy": "2020-12-02T17:43:18.261Z",
          "iopub.execute_input": "2020-12-02T17:43:18.274Z",
          "iopub.status.idle": "2020-12-02T17:43:19.514Z"
        }
      }
    },
    {
      "cell_type": "code",
      "source": [
        "@assert @isdefined Primes"
      ],
      "outputs": [],
      "execution_count": 5,
      "metadata": {
        "execution": {
          "iopub.status.busy": "2020-12-02T17:43:26.102Z",
          "iopub.execute_input": "2020-12-02T17:43:26.112Z",
          "iopub.status.idle": "2020-12-02T17:43:26.128Z"
        }
      }
    },
    {
      "cell_type": "markdown",
      "source": [
        "#### 8.2\n",
        "Verifica que ahora puedes usar la función `primes` para obtener todos los números primos menores a 1 000 000 y almacénalos en la variable `primes_list`."
      ],
      "metadata": {}
    },
    {
      "cell_type": "code",
      "source": [
        "primes_list = primes(1_000_000)"
      ],
      "outputs": [
        {
          "output_type": "execute_result",
          "execution_count": 6,
          "data": {
            "text/plain": "78498-element Array{Int64,1}:\n      2\n      3\n      5\n      7\n     11\n     13\n     17\n     19\n     23\n     29\n     31\n     37\n     41\n      ⋮\n 999809\n 999853\n 999863\n 999883\n 999907\n 999917\n 999931\n 999953\n 999959\n 999961\n 999979\n 999983"
          },
          "metadata": {}
        }
      ],
      "execution_count": 6,
      "metadata": {
        "collapsed": true,
        "jupyter": {
          "source_hidden": false,
          "outputs_hidden": false
        },
        "nteract": {
          "transient": {
            "deleting": false
          }
        },
        "execution": {
          "iopub.status.busy": "2020-12-02T17:43:51.130Z",
          "iopub.execute_input": "2020-12-02T17:43:51.140Z",
          "iopub.status.idle": "2020-12-02T17:43:53.085Z"
        }
      }
    },
    {
      "cell_type": "code",
      "source": [
        "@assert primes_list == primes(1000000)"
      ],
      "outputs": [],
      "execution_count": 8,
      "metadata": {
        "execution": {
          "iopub.status.busy": "2020-12-02T17:51:22.741Z",
          "iopub.execute_input": "2020-12-02T17:51:22.753Z",
          "iopub.status.idle": "2020-12-02T17:51:22.773Z"
        }
      }
    },
    {
      "cell_type": "code",
      "source": [],
      "outputs": [],
      "execution_count": null,
      "metadata": {
        "collapsed": true,
        "jupyter": {
          "source_hidden": false,
          "outputs_hidden": false
        },
        "nteract": {
          "transient": {
            "deleting": false
          }
        }
      }
    }
  ],
  "metadata": {
    "language_info": {
      "file_extension": ".jl",
      "name": "julia",
      "mimetype": "application/julia",
      "version": "1.5.3"
    },
    "kernelspec": {
      "name": "julia-1.0",
      "display_name": "Julia 1.0.3",
      "language": "julia"
    },
    "nteract": {
      "version": "0.27.0"
    }
  },
  "nbformat": 4,
  "nbformat_minor": 3
}