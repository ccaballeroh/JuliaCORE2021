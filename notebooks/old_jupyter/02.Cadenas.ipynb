{
  "cells": [
    {
      "cell_type": "markdown",
      "source": [
        "# Cadenas\n",
        "\n",
        "Temas:\n",
        "\n",
        "1. Cómo obtener una cadena\n",
        "2. Interpolación de cadenas\n",
        "3. Concatenación de cadenas"
      ],
      "metadata": {}
    },
    {
      "cell_type": "markdown",
      "source": [
        "## Cómo obtener una cadena\n",
        "\n",
        "Encierra tus caracteres en \" \" o \"\"\" \"\"\""
      ],
      "metadata": {}
    },
    {
      "cell_type": "code",
      "source": [
        "s1 = \"Soy una cadena.\""
      ],
      "outputs": [
        {
          "output_type": "execute_result",
          "execution_count": 1,
          "data": {
            "text/plain": "\"Soy una cadena.\""
          },
          "metadata": {}
        }
      ],
      "execution_count": 1,
      "metadata": {
        "execution": {
          "iopub.status.busy": "2020-11-30T19:12:34.921Z",
          "iopub.execute_input": "2020-11-30T19:12:35.760Z",
          "iopub.status.idle": "2020-11-30T19:12:36.858Z"
        }
      }
    },
    {
      "cell_type": "code",
      "source": [
        "s2 = \"\"\"También soy una cadena. \"\"\""
      ],
      "outputs": [
        {
          "output_type": "execute_result",
          "execution_count": 2,
          "data": {
            "text/plain": "\"También soy una cadena. \""
          },
          "metadata": {}
        }
      ],
      "execution_count": 2,
      "metadata": {
        "execution": {
          "iopub.status.busy": "2020-11-30T19:12:37.896Z",
          "iopub.execute_input": "2020-11-30T19:12:37.912Z",
          "iopub.status.idle": "2020-11-30T19:12:37.951Z"
        }
      }
    },
    {
      "cell_type": "markdown",
      "source": [
        "Hay un par de diferencias funcionales entre las cadenas encerradas con \" \" y con \"\"\" \"\"\". Una diferencia es que, con las últimas, se pueden usar comillas dentro de la cadena."
      ],
      "metadata": {}
    },
    {
      "cell_type": "code",
      "source": [
        "\"Aquí, se obtiene un \"error\" porque es ambiguo en dónde termina esta cadena \""
      ],
      "outputs": [
        {
          "output_type": "error",
          "ename": "LoadError",
          "evalue": "syntax: cannot juxtapose string literal",
          "traceback": [
            "syntax: cannot juxtapose string literal",
            "",
            "Stacktrace:",
            " [1] top-level scope at In[3]:1",
            " [2] include_string(::Function, ::Module, ::String, ::String) at .\\loading.jl:1091"
          ]
        }
      ],
      "execution_count": 3,
      "metadata": {
        "execution": {
          "iopub.status.busy": "2020-11-30T19:13:03.096Z",
          "iopub.execute_input": "2020-11-30T19:13:03.119Z",
          "iopub.status.idle": "2020-11-30T19:13:03.647Z"
        }
      }
    },
    {
      "cell_type": "code",
      "source": [
        "\"\"\"¡¡¡Miren, sin \"errores\"!!! \"\"\""
      ],
      "outputs": [
        {
          "output_type": "execute_result",
          "execution_count": 6,
          "data": {
            "text/plain": "\"¡¡¡Miren, sin \\\"errores\\\"!!! \""
          },
          "metadata": {}
        }
      ],
      "execution_count": 6,
      "metadata": {
        "execution": {
          "iopub.status.busy": "2020-11-30T19:14:05.625Z",
          "iopub.execute_input": "2020-11-30T19:14:05.643Z",
          "iopub.status.idle": "2020-11-30T19:14:05.681Z"
        }
      }
    },
    {
      "cell_type": "markdown",
      "source": [
        "**N.B.** Las comillas simples, ' ',  definen un carácter y no una cadena."
      ],
      "metadata": {}
    },
    {
      "cell_type": "code",
      "source": [
        "typeof('a')"
      ],
      "outputs": [
        {
          "output_type": "execute_result",
          "execution_count": 7,
          "data": {
            "text/plain": "Char"
          },
          "metadata": {}
        }
      ],
      "execution_count": 7,
      "metadata": {
        "execution": {
          "iopub.status.busy": "2020-11-30T19:14:24.802Z",
          "iopub.execute_input": "2020-11-30T19:14:24.819Z",
          "iopub.status.idle": "2020-11-30T19:14:25.201Z"
        }
      }
    },
    {
      "cell_type": "code",
      "source": [
        "'Aquí, se obtiene un error'"
      ],
      "outputs": [
        {
          "output_type": "error",
          "ename": "LoadError",
          "evalue": "syntax: character literal contains multiple characters",
          "traceback": [
            "syntax: character literal contains multiple characters",
            "",
            "Stacktrace:",
            " [1] top-level scope at In[8]:1",
            " [2] include_string(::Function, ::Module, ::String, ::String) at .\\loading.jl:1091"
          ]
        }
      ],
      "execution_count": 8,
      "metadata": {
        "execution": {
          "iopub.status.busy": "2020-11-30T19:14:35.455Z",
          "iopub.execute_input": "2020-11-30T19:14:35.473Z",
          "iopub.status.idle": "2020-11-30T19:14:35.511Z"
        }
      }
    },
    {
      "cell_type": "markdown",
      "source": [
        "## Interpolación de cadenas\n",
        "\n",
        "Se puede usar el carácter $ para insertar variables existentes en una cadena y evaluar expresiones dentro de una cadena. A continuación, hay un ejemplo que contiene información muy personal."
      ],
      "metadata": {}
    },
    {
      "cell_type": "code",
      "source": [
        "name = \"Christian\"\n",
        "last_name = \"Caballero\"\n",
        "age = 34"
      ],
      "outputs": [
        {
          "output_type": "execute_result",
          "execution_count": 10,
          "data": {
            "text/plain": "34"
          },
          "metadata": {}
        }
      ],
      "execution_count": 10,
      "metadata": {
        "execution": {
          "iopub.status.busy": "2020-11-30T19:16:03.417Z",
          "iopub.execute_input": "2020-11-30T19:16:03.438Z",
          "iopub.status.idle": "2020-11-30T19:16:03.727Z"
        }
      }
    },
    {
      "cell_type": "code",
      "source": [
        "println(\"Hola, me llamo $name.\")\n",
        "println(\"Tengo $age años de edad.\")\n",
        " println(\"¡Esos son $(12*age) meses!\")\n",
        "# ## String concatenation"
      ],
      "outputs": [
        {
          "output_type": "stream",
          "name": "stdout",
          "text": [
            "Hola, me llamo Christian.\n",
            "Tengo 34 años de edad.\n",
            "¡Esos son 408 meses!\n"
          ]
        }
      ],
      "execution_count": 11,
      "metadata": {
        "execution": {
          "iopub.status.busy": "2020-11-30T19:16:05.675Z",
          "iopub.execute_input": "2020-11-30T19:16:05.687Z",
          "iopub.status.idle": "2020-11-30T19:16:05.715Z"
        }
      }
    },
    {
      "cell_type": "code",
      "source": [
        "# A continuación hay tres maneras de concatenar cadenas.\n",
        "\n",
        "# La primera forma es usar la función `string()`.\n",
        "# `string()` convierte entradas que son cadenas a cadenas.\n",
        "s3 = \"¿Cuántos libros \";\n",
        "s4 = \"son demasiados?\";\n",
        "books = 10;"
      ],
      "outputs": [],
      "execution_count": 12,
      "metadata": {
        "execution": {
          "iopub.status.busy": "2020-11-30T19:16:45.403Z",
          "iopub.execute_input": "2020-11-30T19:16:45.417Z",
          "iopub.status.idle": "2020-11-30T19:16:45.441Z"
        }
      }
    },
    {
      "cell_type": "code",
      "source": [
        "string(s3, s4)"
      ],
      "outputs": [
        {
          "output_type": "execute_result",
          "execution_count": 13,
          "data": {
            "text/plain": "\"¿Cuántos libros son demasiados?\""
          },
          "metadata": {}
        }
      ],
      "execution_count": 13,
      "metadata": {
        "execution": {
          "iopub.status.busy": "2020-11-30T19:16:51.047Z",
          "iopub.execute_input": "2020-11-30T19:16:51.070Z",
          "iopub.status.idle": "2020-11-30T19:16:51.100Z"
        }
      }
    },
    {
      "cell_type": "code",
      "source": [
        "string(\"No lo sé, pero \", books, \" son muy pocos.\")"
      ],
      "outputs": [
        {
          "output_type": "execute_result",
          "execution_count": 14,
          "data": {
            "text/plain": "\"No lo sé, pero 10 son muy pocos.\""
          },
          "metadata": {}
        }
      ],
      "execution_count": 14,
      "metadata": {
        "execution": {
          "iopub.status.busy": "2020-11-30T19:17:37.244Z",
          "iopub.execute_input": "2020-11-30T19:17:37.257Z",
          "iopub.status.idle": "2020-11-30T19:17:37.293Z"
        }
      }
    },
    {
      "cell_type": "markdown",
      "source": [
        "También se puede usar `*` para concatenar."
      ],
      "metadata": {}
    },
    {
      "cell_type": "code",
      "source": [
        "s3*s4"
      ],
      "outputs": [
        {
          "output_type": "execute_result",
          "execution_count": 16,
          "data": {
            "text/plain": "\"¿Cuántos libros son demasiados?\""
          },
          "metadata": {}
        }
      ],
      "execution_count": 16,
      "metadata": {
        "execution": {
          "iopub.status.busy": "2020-11-30T19:18:53.631Z",
          "iopub.execute_input": "2020-11-30T19:18:53.646Z",
          "iopub.status.idle": "2020-11-30T19:18:53.676Z"
        }
      }
    },
    {
      "cell_type": "markdown",
      "source": [
        "### Ejercicios\n",
        "\n",
        "#### 2.1\n",
        "Crea una cadena que diga \"hi\" 1000 veces, primero con `repeat` y luego con el operador de exponente, que puede llamar a `*` \"tras bambalinas\". Asigna el reculado a la variable `hi`."
      ],
      "metadata": {}
    },
    {
      "cell_type": "code",
      "source": [
        "# Ingresa tu respuesta...\n",
        "hi = repeat(\"hi\", 1_000);"
      ],
      "outputs": [],
      "execution_count": 19,
      "metadata": {
        "collapsed": true,
        "jupyter": {
          "source_hidden": false,
          "outputs_hidden": false
        },
        "nteract": {
          "transient": {
            "deleting": false
          }
        },
        "execution": {
          "iopub.status.busy": "2020-11-30T19:21:25.961Z",
          "iopub.execute_input": "2020-11-30T19:21:25.973Z",
          "iopub.status.idle": "2020-11-30T19:21:25.996Z"
        }
      }
    },
    {
      "cell_type": "code",
      "source": [
        "hi_2 = \"hi\"^1000;"
      ],
      "outputs": [],
      "execution_count": 20,
      "metadata": {
        "collapsed": true,
        "jupyter": {
          "source_hidden": false,
          "outputs_hidden": false
        },
        "nteract": {
          "transient": {
            "deleting": false
          }
        },
        "execution": {
          "iopub.status.busy": "2020-11-30T19:21:36.617Z",
          "iopub.execute_input": "2020-11-30T19:21:36.631Z",
          "iopub.status.idle": "2020-11-30T19:21:36.655Z"
        }
      }
    },
    {
      "cell_type": "code",
      "source": [
        "@assert hi_2 == \"hihihihihihihihihihihihihihihihihihihihihihihihihihihihihihihihihihihihihihihihihihihihihihihihihihihihihihihihihihihihihihihihihihihihihihihihihihihihihihihihihihihihihihihihihihihihihihihihihihihihihihihihihihihihihihihihihihihihihihihihihihihihihihihihihihihihihihihihihihihihihihihihihihihihihihihihihihihihihihihihihihihihihihihihihihihihihihihihihihihihihihihihihihihihihihihihihihihihihihihihihihihihihihihihihihihihihihihihihihihihihihihihihihihihihihihihihihihihihihihihihihihihihihihihihihihihihihihihihihihihihihihihihihihihihihihihihihihihihihihihihihihihihihihihihihihihihihihihihihihihihihihihihihihihihihihihihihihihihihihihihihihihihihihihihihihihihihihihihihihihihihihihihihihihihihihihihihihihihihihihihihihihihihihihihihihihihihihihihihihihihihihihihihihihihihihihihihihihihihihihihihihihihihihihihihihihihihihihihihihihihihihihihihihihihihihihihihihihihihihihihihihihihihihihihihihihihihihihihihihihihihihihihihihihihihihihihihihihihihihihihihihihihihihihihihihihihihihihihihihihihihihihihihihihihihihihihihihihihihihihihihihihihihihihihihihihihihihihihihihihihihihihihihihihihihihihihihihihihihihihihihihihihihihihihihihihihihihihihihihihihihihihihihihihihihihihihihihihihihihihihihihihihihihihihihihihihihihihihihihihihihihihihihihihihihihihihihihihihihihihihihihihihihihihihihihihihihihihihihihihihihihihihihihihihihihihihihihihihihihihihihihihihihihihihihihihihihihihihihihihihihihihihihihihihihihihihihihihihihihihihihihihihihihihihihihihihihihihihihihihihihihihihihihihihihihihihihihihihihihihihihihihihihihihihihihihihihihihihihihihihihihihihihihihihihihihihihihihihihihihihihihihihihihihihihihihihihihihihihihihihihihihihihihihihihihihihihihihihihihihihihihihihihihihihihihihihihihihihihihihihihihihihihihihihihihihihihihihihihihihihihihihihihihihihihihihihihihihihihihihihihihihihihihihihihihihihihihihihihihihihihihihihihihihihihihihihihihihihihihihihihihihihihihihihihihihihihihihihihihihihihihihihihihihihihihihihihihihihihihihihihihihihihihihihihihihihihihihihihihihi\""
      ],
      "outputs": [],
      "execution_count": 22,
      "metadata": {
        "execution": {
          "iopub.status.busy": "2020-11-30T19:21:53.433Z",
          "iopub.execute_input": "2020-11-30T19:21:53.447Z",
          "iopub.status.idle": "2020-11-30T19:21:53.479Z"
        }
      }
    },
    {
      "cell_type": "markdown",
      "source": [
        "#### 2.2\n",
        "\n",
        "Declara dos variables\n",
        "\n",
        "```julia\n",
        "a = 3\n",
        "b = 4\n",
        "```\n",
        "y úsalas para crear dos cadenas:\n",
        "```julia\n",
        "\"3 + 4\"\n",
        "\"7\"\n",
        "```\n",
        "y guarda el resultado en `c` y `d` respectivamente."
      ],
      "metadata": {}
    },
    {
      "cell_type": "code",
      "source": [
        "# Ingresa tu respuesta...\n",
        "\n",
        "a = 3\n",
        "b = 4\n",
        "\n",
        "c = string(a, \" + \", b)\n",
        "d = string(a+b);"
      ],
      "outputs": [],
      "execution_count": 25,
      "metadata": {
        "collapsed": true,
        "jupyter": {
          "source_hidden": false,
          "outputs_hidden": false
        },
        "nteract": {
          "transient": {
            "deleting": false
          }
        },
        "execution": {
          "iopub.status.busy": "2020-11-30T19:24:17.782Z",
          "iopub.execute_input": "2020-11-30T19:24:17.795Z",
          "iopub.status.idle": "2020-11-30T19:24:17.818Z"
        }
      }
    },
    {
      "cell_type": "code",
      "source": [
        "@assert c == \"3 + 4\"\n",
        "@assert d == \"7\""
      ],
      "outputs": [],
      "execution_count": 26,
      "metadata": {
        "execution": {
          "iopub.status.busy": "2020-11-30T19:24:21.026Z",
          "iopub.execute_input": "2020-11-30T19:24:21.051Z",
          "iopub.status.idle": "2020-11-30T19:24:21.075Z"
        }
      }
    }
  ],
  "metadata": {
    "language_info": {
      "file_extension": ".jl",
      "name": "julia",
      "mimetype": "application/julia",
      "version": "1.5.3"
    },
    "kernelspec": {
      "name": "julia-1.0",
      "display_name": "Julia 1.0.3",
      "language": "julia"
    },
    "nteract": {
      "version": "0.26.0"
    }
  },
  "nbformat": 4,
  "nbformat_minor": 3
}