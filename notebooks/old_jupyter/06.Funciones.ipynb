{
  "cells": [
    {
      "cell_type": "markdown",
      "source": [
        "# Funciones\n",
        "\n",
        "Temas:\n",
        "\n",
        "1. Cómo declarar una función\n",
        "2. *Duck-typing* en Julia\n",
        "3. Funciones que que modifican y que no modifican\n",
        "4. Funciones de orden superior"
      ],
      "metadata": {}
    },
    {
      "cell_type": "markdown",
      "source": [
        "## Cómo declarar una función\n",
        "Julia nos brinda unas cuantas formas diferentes de escribir una función. La primera requiere las palabras reservadas `function` y `end`."
      ],
      "metadata": {}
    },
    {
      "cell_type": "code",
      "source": [
        "function sayhi(name)\n",
        "    println(\"¡Hola, $name, qué gusto verte!\")\n",
        "end"
      ],
      "outputs": [
        {
          "output_type": "execute_result",
          "execution_count": 3,
          "data": {
            "text/plain": "sayhi (generic function with 1 method)"
          },
          "metadata": {}
        }
      ],
      "execution_count": 3,
      "metadata": {
        "execution": {
          "iopub.status.busy": "2020-12-01T18:13:02.194Z",
          "iopub.execute_input": "2020-12-01T18:13:02.235Z",
          "iopub.status.idle": "2020-12-01T18:13:02.310Z"
        }
      }
    },
    {
      "cell_type": "code",
      "source": [
        "function f(x)\n",
        "    x^2\n",
        "end"
      ],
      "outputs": [
        {
          "output_type": "execute_result",
          "execution_count": 4,
          "data": {
            "text/plain": "f (generic function with 1 method)"
          },
          "metadata": {}
        }
      ],
      "execution_count": 4,
      "metadata": {
        "execution": {
          "iopub.status.busy": "2020-12-01T18:13:23.921Z",
          "iopub.execute_input": "2020-12-01T18:13:23.954Z",
          "iopub.status.idle": "2020-12-01T18:13:24.016Z"
        }
      }
    },
    {
      "cell_type": "markdown",
      "source": [
        "Podemos llamar a cualquiera de estas funciones de la siguiente forma:"
      ],
      "metadata": {}
    },
    {
      "cell_type": "code",
      "source": [
        "sayhi(\"C-3PO\")"
      ],
      "outputs": [
        {
          "output_type": "stream",
          "name": "stdout",
          "text": [
            "¡Hola, C-3PO, qué gusto verte!\n"
          ]
        }
      ],
      "execution_count": 5,
      "metadata": {
        "execution": {
          "iopub.status.busy": "2020-12-01T18:13:45.663Z",
          "iopub.execute_input": "2020-12-01T18:13:45.694Z",
          "iopub.status.idle": "2020-12-01T18:13:45.843Z"
        }
      }
    },
    {
      "cell_type": "code",
      "source": [
        "f(42)"
      ],
      "outputs": [
        {
          "output_type": "execute_result",
          "execution_count": 6,
          "data": {
            "text/plain": "1764"
          },
          "metadata": {}
        }
      ],
      "execution_count": 6,
      "metadata": {
        "execution": {
          "iopub.status.busy": "2020-12-01T18:13:52.396Z",
          "iopub.execute_input": "2020-12-01T18:13:52.426Z",
          "iopub.status.idle": "2020-12-01T18:13:52.699Z"
        }
      }
    },
    {
      "cell_type": "markdown",
      "source": [
        "También pudimos haber declarado cualquiera de estas funciones en una sola línea:"
      ],
      "metadata": {}
    },
    {
      "cell_type": "code",
      "source": [
        "sayhi2(name) = println(\"¡Hola, $name, qué gusto verte!\")"
      ],
      "outputs": [
        {
          "output_type": "execute_result",
          "execution_count": 7,
          "data": {
            "text/plain": "sayhi2 (generic function with 1 method)"
          },
          "metadata": {}
        }
      ],
      "execution_count": 7,
      "metadata": {
        "execution": {
          "iopub.status.busy": "2020-12-01T18:14:26.041Z",
          "iopub.execute_input": "2020-12-01T18:14:26.094Z",
          "iopub.status.idle": "2020-12-01T18:14:26.197Z"
        }
      }
    },
    {
      "cell_type": "code",
      "source": [
        "f2(x) = x^2"
      ],
      "outputs": [
        {
          "output_type": "execute_result",
          "execution_count": 8,
          "data": {
            "text/plain": "f2 (generic function with 1 method)"
          },
          "metadata": {}
        }
      ],
      "execution_count": 8,
      "metadata": {
        "execution": {
          "iopub.status.busy": "2020-12-01T18:14:45.163Z",
          "iopub.execute_input": "2020-12-01T18:14:45.203Z",
          "iopub.status.idle": "2020-12-01T18:14:45.300Z"
        }
      }
    },
    {
      "cell_type": "code",
      "source": [
        "sayhi2(\"R2D2\")"
      ],
      "outputs": [
        {
          "output_type": "stream",
          "name": "stdout",
          "text": [
            "¡Hola, R2D2, qué gusto verte!\n"
          ]
        }
      ],
      "execution_count": 9,
      "metadata": {
        "execution": {
          "iopub.status.busy": "2020-12-01T18:14:49.793Z",
          "iopub.execute_input": "2020-12-01T18:14:49.825Z",
          "iopub.status.idle": "2020-12-01T18:14:49.897Z"
        }
      }
    },
    {
      "cell_type": "code",
      "source": [
        "f2(42)"
      ],
      "outputs": [
        {
          "output_type": "execute_result",
          "execution_count": 10,
          "data": {
            "text/plain": "1764"
          },
          "metadata": {}
        }
      ],
      "execution_count": 10,
      "metadata": {
        "execution": {
          "iopub.status.busy": "2020-12-01T18:14:51.306Z",
          "iopub.execute_input": "2020-12-01T18:14:51.334Z",
          "iopub.status.idle": "2020-12-01T18:14:51.396Z"
        }
      }
    },
    {
      "cell_type": "markdown",
      "source": [
        "Por último, pudimos haber declarado estas como funciones \"anónimas\":"
      ],
      "metadata": {}
    },
    {
      "cell_type": "code",
      "source": [
        "sayhi3 = name -> println(\"¡Hola, $name, qué gusto verte!\")"
      ],
      "outputs": [],
      "execution_count": null,
      "metadata": {
        "collapsed": true,
        "jupyter": {
          "source_hidden": false,
          "outputs_hidden": false
        },
        "nteract": {
          "transient": {
            "deleting": false
          }
        }
      }
    },
    {
      "cell_type": "code",
      "source": [
        "typeof(sayhi3)"
      ],
      "outputs": [
        {
          "output_type": "execute_result",
          "execution_count": 14,
          "data": {
            "text/plain": "var\"#5#6\""
          },
          "metadata": {}
        }
      ],
      "execution_count": 14,
      "metadata": {
        "collapsed": true,
        "jupyter": {
          "source_hidden": false,
          "outputs_hidden": false
        },
        "nteract": {
          "transient": {
            "deleting": false
          }
        },
        "execution": {
          "iopub.status.busy": "2020-12-01T18:17:22.310Z",
          "iopub.execute_input": "2020-12-01T18:17:22.338Z",
          "iopub.status.idle": "2020-12-01T18:17:22.574Z"
        }
      }
    },
    {
      "cell_type": "code",
      "source": [
        "f3 = x -> x^2"
      ],
      "outputs": [
        {
          "output_type": "execute_result",
          "execution_count": 15,
          "data": {
            "text/plain": "#7 (generic function with 1 method)"
          },
          "metadata": {}
        }
      ],
      "execution_count": 15,
      "metadata": {
        "execution": {
          "iopub.status.busy": "2020-12-01T18:17:38.519Z",
          "iopub.execute_input": "2020-12-01T18:17:38.548Z",
          "iopub.status.idle": "2020-12-01T18:17:38.606Z"
        }
      }
    },
    {
      "cell_type": "code",
      "source": [
        "sayhi3(\"Chewbacca\")"
      ],
      "outputs": [
        {
          "output_type": "stream",
          "name": "stdout",
          "text": [
            "¡Hola, Chewbacca, qué gusto verte!\n"
          ]
        }
      ],
      "execution_count": 16,
      "metadata": {
        "execution": {
          "iopub.status.busy": "2020-12-01T18:17:39.057Z",
          "iopub.execute_input": "2020-12-01T18:17:39.085Z",
          "iopub.status.idle": "2020-12-01T18:17:39.137Z"
        }
      }
    },
    {
      "cell_type": "code",
      "source": [
        "f3(42)"
      ],
      "outputs": [
        {
          "output_type": "execute_result",
          "execution_count": 17,
          "data": {
            "text/plain": "1764"
          },
          "metadata": {}
        }
      ],
      "execution_count": 17,
      "metadata": {
        "execution": {
          "iopub.status.busy": "2020-12-01T18:17:52.353Z",
          "iopub.execute_input": "2020-12-01T18:17:52.384Z",
          "iopub.status.idle": "2020-12-01T18:17:52.448Z"
        }
      }
    },
    {
      "cell_type": "markdown",
      "source": [
        "## *Duck-typing* en Julia\n",
        "*\"Si hace como pato, es un pato.\"* <br><br>\n",
        "Las funciones en Julia simplemente funcionarán con las entradas con las que tengan sentido. <br><br>\n",
        "Por ejemplo, `sayhi` funciona en el nombre de este personaje, escrito como un entero..."
      ],
      "metadata": {}
    },
    {
      "cell_type": "code",
      "source": [
        "sayhi(55595472)"
      ],
      "outputs": [
        {
          "output_type": "stream",
          "name": "stdout",
          "text": [
            "¡Hola, 55595472, qué gusto verte!\n"
          ]
        }
      ],
      "execution_count": 18,
      "metadata": {
        "execution": {
          "iopub.status.busy": "2020-12-01T18:19:01.928Z",
          "iopub.execute_input": "2020-12-01T18:19:01.957Z",
          "iopub.status.idle": "2020-12-01T18:19:02.022Z"
        }
      }
    },
    {
      "cell_type": "markdown",
      "source": [
        "Y `f` funcionará en una matriz."
      ],
      "metadata": {}
    },
    {
      "cell_type": "code",
      "source": [
        "A = rand(3, 3)\n",
        "A"
      ],
      "outputs": [
        {
          "output_type": "execute_result",
          "execution_count": 19,
          "data": {
            "text/plain": "3×3 Array{Float64,2}:\n 0.50402    0.594693  0.399827\n 0.306349   0.577756  0.306304\n 0.0690504  0.691178  0.845979"
          },
          "metadata": {}
        }
      ],
      "execution_count": 19,
      "metadata": {
        "execution": {
          "iopub.status.busy": "2020-12-01T18:20:18.376Z",
          "iopub.execute_input": "2020-12-01T18:20:18.409Z",
          "iopub.status.idle": "2020-12-01T18:20:19.957Z"
        }
      }
    },
    {
      "cell_type": "code",
      "source": [
        "A*A # A^2"
      ],
      "outputs": [
        {
          "output_type": "execute_result",
          "execution_count": 20,
          "data": {
            "text/plain": "3×3 Array{Float64,2}:\n 0.463828  0.919676  0.721923\n 0.352551  0.727696  0.558583\n 0.30496   1.02512   0.955"
          },
          "metadata": {}
        }
      ],
      "execution_count": 20,
      "metadata": {
        "collapsed": true,
        "jupyter": {
          "source_hidden": false,
          "outputs_hidden": false
        },
        "nteract": {
          "transient": {
            "deleting": false
          }
        },
        "execution": {
          "iopub.status.busy": "2020-12-01T18:21:12.998Z",
          "iopub.execute_input": "2020-12-01T18:21:13.056Z",
          "iopub.status.idle": "2020-12-01T18:21:14.491Z"
        }
      }
    },
    {
      "cell_type": "code",
      "source": [
        "f(A)"
      ],
      "outputs": [
        {
          "output_type": "execute_result",
          "execution_count": 21,
          "data": {
            "text/plain": "3×3 Array{Float64,2}:\n 0.463828  0.919676  0.721923\n 0.352551  0.727696  0.558583\n 0.30496   1.02512   0.955"
          },
          "metadata": {}
        }
      ],
      "execution_count": 21,
      "metadata": {
        "execution": {
          "iopub.status.busy": "2020-12-01T18:21:34.225Z",
          "iopub.execute_input": "2020-12-01T18:21:34.254Z",
          "iopub.status.idle": "2020-12-01T18:21:34.931Z"
        }
      }
    },
    {
      "cell_type": "markdown",
      "source": [
        "`f` también funcionará en una cadena como \"hi\" porque `*` está definido para entradas de cadenas como una concatenación de cadenas."
      ],
      "metadata": {}
    },
    {
      "cell_type": "code",
      "source": [
        "s1 = \"hola\"\n",
        "#s1*s1 # s1^2\n",
        "s1^2"
      ],
      "outputs": [
        {
          "output_type": "execute_result",
          "execution_count": 23,
          "data": {
            "text/plain": "\"holahola\""
          },
          "metadata": {}
        }
      ],
      "execution_count": 23,
      "metadata": {
        "collapsed": true,
        "jupyter": {
          "source_hidden": false,
          "outputs_hidden": false
        },
        "nteract": {
          "transient": {
            "deleting": false
          }
        },
        "execution": {
          "iopub.status.busy": "2020-12-01T18:22:28.065Z",
          "iopub.execute_input": "2020-12-01T18:22:28.096Z",
          "iopub.status.idle": "2020-12-01T18:22:28.155Z"
        }
      }
    },
    {
      "cell_type": "code",
      "source": [
        "f(\"hi\")"
      ],
      "outputs": [
        {
          "output_type": "execute_result",
          "execution_count": 24,
          "data": {
            "text/plain": "\"hihi\""
          },
          "metadata": {}
        }
      ],
      "execution_count": 24,
      "metadata": {
        "execution": {
          "iopub.status.busy": "2020-12-01T18:22:35.922Z",
          "iopub.execute_input": "2020-12-01T18:22:35.954Z",
          "iopub.status.idle": "2020-12-01T18:22:36.023Z"
        }
      }
    },
    {
      "cell_type": "markdown",
      "source": [
        "Por el otro lado, `f` no funcionará en un vector. A diferencia de `A^2`, que está bien definido, el significado `v^2` para un vector, `v`, no es una operación bien definida."
      ],
      "metadata": {}
    },
    {
      "cell_type": "code",
      "source": [
        "v = rand(3)\n",
        "v"
      ],
      "outputs": [
        {
          "output_type": "execute_result",
          "execution_count": 25,
          "data": {
            "text/plain": "3-element Array{Float64,1}:\n 0.9825476875856602\n 0.46593079811858584\n 0.8540575207188457"
          },
          "metadata": {}
        }
      ],
      "execution_count": 25,
      "metadata": {
        "execution": {
          "iopub.status.busy": "2020-12-01T18:23:33.125Z",
          "iopub.execute_input": "2020-12-01T18:23:33.156Z",
          "iopub.status.idle": "2020-12-01T18:23:34.258Z"
        }
      }
    },
    {
      "cell_type": "code",
      "source": [
        "f(v)"
      ],
      "outputs": [
        {
          "output_type": "error",
          "ename": "LoadError",
          "evalue": "MethodError: no method matching ^(::Array{Float64,1}, ::Int64)\nClosest candidates are:\n  ^(!Matched::Float32, ::Integer) at math.jl:907\n  ^(!Matched::Irrational{:ℯ}, ::Integer) at mathconstants.jl:91\n  ^(!Matched::Irrational{:ℯ}, ::Number) at mathconstants.jl:91\n  ...",
          "traceback": [
            "MethodError: no method matching ^(::Array{Float64,1}, ::Int64)\nClosest candidates are:\n  ^(!Matched::Float32, ::Integer) at math.jl:907\n  ^(!Matched::Irrational{:ℯ}, ::Integer) at mathconstants.jl:91\n  ^(!Matched::Irrational{:ℯ}, ::Number) at mathconstants.jl:91\n  ...",
            "",
            "Stacktrace:",
            " [1] macro expansion at .\\none:0 [inlined]",
            " [2] literal_pow at .\\none:0 [inlined]",
            " [3] f(::Array{Float64,1}) at .\\In[4]:2",
            " [4] top-level scope at In[26]:1",
            " [5] include_string(::Function, ::Module, ::String, ::String) at .\\loading.jl:1091"
          ]
        }
      ],
      "execution_count": 26,
      "metadata": {
        "execution": {
          "iopub.status.busy": "2020-12-01T18:23:46.398Z",
          "iopub.execute_input": "2020-12-01T18:23:46.434Z",
          "iopub.status.idle": "2020-12-01T07:45:53.384Z"
        }
      }
    },
    {
      "cell_type": "markdown",
      "source": [
        "## Funciones que modifican y que no modifican\n",
        "\n",
        "Por convención, las funciones seguidas por un `!` alteran sus contenidos y las funciones que no lo tienen, pues no.\n",
        "\n",
        "Por ejemplo, veamos la diferencia entre `sort` y `sort!`."
      ],
      "metadata": {}
    },
    {
      "cell_type": "code",
      "source": [
        "v = [3, 5, 2]"
      ],
      "outputs": [
        {
          "output_type": "execute_result",
          "execution_count": 27,
          "data": {
            "text/plain": "3-element Array{Int64,1}:\n 3\n 5\n 2"
          },
          "metadata": {}
        }
      ],
      "execution_count": 27,
      "metadata": {
        "execution": {
          "iopub.status.busy": "2020-12-01T18:25:23.113Z",
          "iopub.execute_input": "2020-12-01T18:25:23.139Z",
          "iopub.status.idle": "2020-12-01T18:25:24.275Z"
        }
      }
    },
    {
      "cell_type": "code",
      "source": [
        "sort(v)"
      ],
      "outputs": [
        {
          "output_type": "execute_result",
          "execution_count": 28,
          "data": {
            "text/plain": "3-element Array{Int64,1}:\n 2\n 3\n 5"
          },
          "metadata": {}
        }
      ],
      "execution_count": 28,
      "metadata": {
        "execution": {
          "iopub.status.busy": "2020-12-01T18:25:40.001Z",
          "iopub.execute_input": "2020-12-01T18:25:40.032Z",
          "iopub.status.idle": "2020-12-01T18:25:40.091Z"
        }
      }
    },
    {
      "cell_type": "code",
      "source": [
        "v"
      ],
      "outputs": [
        {
          "output_type": "execute_result",
          "execution_count": 29,
          "data": {
            "text/plain": "3-element Array{Int64,1}:\n 3\n 5\n 2"
          },
          "metadata": {}
        }
      ],
      "execution_count": 29,
      "metadata": {
        "execution": {
          "iopub.status.busy": "2020-12-01T18:25:54.456Z",
          "iopub.execute_input": "2020-12-01T18:25:54.488Z",
          "iopub.status.idle": "2020-12-01T18:25:54.550Z"
        }
      }
    },
    {
      "cell_type": "markdown",
      "source": [
        "`sort(v)` regresa un arreglo ordenado que contiene los mismos elementos que `v`, pero `v` no cambia. <br><br>\n",
        "\n",
        "Por el otro lado, cuando ejecutamos `sort!(v)`, los contenidos de v se ordenan dentro del arreglo `v`."
      ],
      "metadata": {}
    },
    {
      "cell_type": "code",
      "source": [
        "sort!(v)"
      ],
      "outputs": [
        {
          "output_type": "execute_result",
          "execution_count": 30,
          "data": {
            "text/plain": "3-element Array{Int64,1}:\n 2\n 3\n 5"
          },
          "metadata": {}
        }
      ],
      "execution_count": 30,
      "metadata": {
        "execution": {
          "iopub.status.busy": "2020-12-01T18:26:14.297Z",
          "iopub.execute_input": "2020-12-01T18:26:14.327Z",
          "iopub.status.idle": "2020-12-01T18:26:14.399Z"
        }
      }
    },
    {
      "cell_type": "code",
      "source": [
        "v"
      ],
      "outputs": [
        {
          "output_type": "execute_result",
          "execution_count": 31,
          "data": {
            "text/plain": "3-element Array{Int64,1}:\n 2\n 3\n 5"
          },
          "metadata": {}
        }
      ],
      "execution_count": 31,
      "metadata": {
        "execution": {
          "iopub.status.busy": "2020-12-01T18:26:19.278Z",
          "iopub.execute_input": "2020-12-01T18:26:19.306Z",
          "iopub.status.idle": "2020-12-01T18:26:19.366Z"
        }
      }
    },
    {
      "cell_type": "markdown",
      "source": [
        "## Algunas funciones de orden superior\n",
        "\n",
        "### map\n",
        "\n",
        "`map` es una función de \"orden superior\" en Julia que *toma una función* como uno de sus argumentos de entrada.\n",
        "`map` después aplica esa función a cada elemento de la estructura de datos que le pases. Por ejemplo, al ejecutar\n",
        "\n",
        "```julia\n",
        "map(f, [1, 2, 3])\n",
        "```\n",
        "nos dará un arreglo de salida en el que la función `f` se ha aplicado a todos los elementos de `[1, 2, 3]`\n",
        "```julia\n",
        "[f(1), f(2), f(3)]\n",
        "```"
      ],
      "metadata": {}
    },
    {
      "cell_type": "code",
      "source": [
        "map(f, [1, 2, 3])"
      ],
      "outputs": [
        {
          "output_type": "execute_result",
          "execution_count": 32,
          "data": {
            "text/plain": "3-element Array{Int64,1}:\n 1\n 4\n 9"
          },
          "metadata": {}
        }
      ],
      "execution_count": 32,
      "metadata": {
        "execution": {
          "iopub.status.busy": "2020-12-01T18:29:53.555Z",
          "iopub.execute_input": "2020-12-01T18:29:53.595Z",
          "iopub.status.idle": "2020-12-01T18:29:53.657Z"
        }
      }
    },
    {
      "cell_type": "markdown",
      "source": [
        "Aquí, elevamos al cuadrado todos los elementos del vector `[1, 2, 3]`, en lugar de elevar al cuadrado el vector `[1, 2, 3]`.\n",
        "\n",
        "Para hacer esto, podríamos haber pasado a `map` la función anónima en lugar de una función con nombre, tal como:"
      ],
      "metadata": {}
    },
    {
      "cell_type": "code",
      "source": [
        "x -> x^3"
      ],
      "outputs": [],
      "execution_count": null,
      "metadata": {
        "execution": {
          "iopub.status.busy": "2020-12-01T07:53:29.957Z",
          "iopub.execute_input": "2020-12-01T07:53:29.978Z",
          "iopub.status.idle": "2020-12-01T07:53:30.084Z"
        }
      }
    },
    {
      "cell_type": "markdown",
      "source": [
        "por medio de..."
      ],
      "metadata": {}
    },
    {
      "cell_type": "code",
      "source": [
        "map(x -> x^3, [1, 2, 3])"
      ],
      "outputs": [
        {
          "output_type": "execute_result",
          "execution_count": 33,
          "data": {
            "text/plain": "3-element Array{Int64,1}:\n  1\n  8\n 27"
          },
          "metadata": {}
        }
      ],
      "execution_count": 33,
      "metadata": {
        "execution": {
          "iopub.status.busy": "2020-12-01T18:30:30.315Z",
          "iopub.execute_input": "2020-12-01T18:30:30.345Z",
          "iopub.status.idle": "2020-12-01T18:30:30.403Z"
        }
      }
    },
    {
      "cell_type": "markdown",
      "source": [
        "y ahora elevamos al cubo todos los elementos de `[1, 2, 3]`."
      ],
      "metadata": {}
    },
    {
      "cell_type": "markdown",
      "source": [
        "### broadcast\n",
        "\n",
        "`broadcast` es otra función de orden superior como `map`. `broadcast` es la generalización de `map`, así que puede hacer cualquier cosa que `map` haga y más. La sintaxis para llamar `broadcast` es la misma para llamar a `map`:"
      ],
      "metadata": {}
    },
    {
      "cell_type": "code",
      "source": [
        "broadcast(f, [1, 2, 3])"
      ],
      "outputs": [
        {
          "output_type": "execute_result",
          "execution_count": 34,
          "data": {
            "text/plain": "3-element Array{Int64,1}:\n 1\n 4\n 9"
          },
          "metadata": {}
        }
      ],
      "execution_count": 34,
      "metadata": {
        "execution": {
          "iopub.status.busy": "2020-12-01T18:34:05.837Z",
          "iopub.execute_input": "2020-12-01T18:34:05.874Z",
          "iopub.status.idle": "2020-12-01T18:34:05.934Z"
        }
      }
    },
    {
      "cell_type": "markdown",
      "source": [
        "...y nuevamente aplicamos `f` (elevar al cuadrado) a todos los elementos de `[1, 2, 3]` - esta vez al \"transmitir\" (*broadcasting*) `f`.\n",
        "\n",
        "Un poco de \"azúcar sintáctica\" para llamar `broadcast` es colocar un `.` entre el nombre de la función a `broadcast` y sus argumentos de entrada. Por ejemplo,\n",
        "\n",
        "```julia\n",
        "broadcast(f, [1, 2, 3])\n",
        "```\n",
        "es lo mismo que\n",
        "```julia\n",
        "f.([1, 2, 3])\n",
        "```"
      ],
      "metadata": {}
    },
    {
      "cell_type": "code",
      "source": [
        "f.([1, 2, 3])"
      ],
      "outputs": [
        {
          "output_type": "execute_result",
          "execution_count": 35,
          "data": {
            "text/plain": "3-element Array{Int64,1}:\n 1\n 4\n 9"
          },
          "metadata": {}
        }
      ],
      "execution_count": 35,
      "metadata": {
        "execution": {
          "iopub.status.busy": "2020-12-01T18:35:38.042Z",
          "iopub.execute_input": "2020-12-01T18:35:38.076Z",
          "iopub.status.idle": "2020-12-01T18:35:38.141Z"
        }
      }
    },
    {
      "cell_type": "markdown",
      "source": [
        "Presta atención cómo nuevamente esto es diferente a llamar\n",
        "```julia\n",
        "f([1, 2, 3])\n",
        "```\n",
        "Podemos elevar al cuadrado cada elemento de un vector, pero no podemos elevar al cuadrado un vector."
      ],
      "metadata": {}
    },
    {
      "cell_type": "markdown",
      "source": [
        "Para que quede más claro, veamos la diferencia entre\n",
        "\n",
        "```julia\n",
        "f(A)\n",
        "```\n",
        "y\n",
        "```julia\n",
        "f.(A)\n",
        "```\n",
        "para la matriz `A`:"
      ],
      "metadata": {}
    },
    {
      "cell_type": "code",
      "source": [
        "A = [i + 3*j for j in 0:2, i in 1:3]\n",
        "A"
      ],
      "outputs": [
        {
          "output_type": "execute_result",
          "execution_count": 36,
          "data": {
            "text/plain": "3×3 Array{Int64,2}:\n 1  2  3\n 4  5  6\n 7  8  9"
          },
          "metadata": {}
        }
      ],
      "execution_count": 36,
      "metadata": {
        "execution": {
          "iopub.status.busy": "2020-12-01T18:36:45.871Z",
          "iopub.execute_input": "2020-12-01T18:36:45.898Z",
          "iopub.status.idle": "2020-12-01T18:36:47.167Z"
        }
      }
    },
    {
      "cell_type": "code",
      "source": [
        "A*A # A^2"
      ],
      "outputs": [
        {
          "output_type": "execute_result",
          "execution_count": 37,
          "data": {
            "text/plain": "3×3 Array{Int64,2}:\n  30   36   42\n  66   81   96\n 102  126  150"
          },
          "metadata": {}
        }
      ],
      "execution_count": 37,
      "metadata": {
        "collapsed": true,
        "jupyter": {
          "source_hidden": false,
          "outputs_hidden": false
        },
        "nteract": {
          "transient": {
            "deleting": false
          }
        },
        "execution": {
          "iopub.status.busy": "2020-12-01T18:37:30.778Z",
          "iopub.execute_input": "2020-12-01T18:37:30.808Z",
          "iopub.status.idle": "2020-12-01T18:37:31.882Z"
        }
      }
    },
    {
      "cell_type": "code",
      "source": [
        "f(A)"
      ],
      "outputs": [
        {
          "output_type": "execute_result",
          "execution_count": 38,
          "data": {
            "text/plain": "3×3 Array{Int64,2}:\n  30   36   42\n  66   81   96\n 102  126  150"
          },
          "metadata": {}
        }
      ],
      "execution_count": 38,
      "metadata": {
        "execution": {
          "iopub.status.busy": "2020-12-01T18:37:41.781Z",
          "iopub.execute_input": "2020-12-01T18:37:41.814Z",
          "iopub.status.idle": "2020-12-01T18:37:41.911Z"
        }
      }
    },
    {
      "cell_type": "markdown",
      "source": [
        "Como antes, vemos que para la matriz `A`,\n",
        "```\n",
        "f(A) = A^2 = A * A\n",
        "```\n",
        "\n",
        "Por el otro lado,"
      ],
      "metadata": {}
    },
    {
      "cell_type": "code",
      "source": [
        "B = f.(A)\n",
        "B"
      ],
      "outputs": [
        {
          "output_type": "execute_result",
          "execution_count": 39,
          "data": {
            "text/plain": "3×3 Array{Int64,2}:\n  1   4   9\n 16  25  36\n 49  64  81"
          },
          "metadata": {}
        }
      ],
      "execution_count": 39,
      "metadata": {
        "execution": {
          "iopub.status.busy": "2020-12-01T18:37:59.738Z",
          "iopub.execute_input": "2020-12-01T18:37:59.769Z",
          "iopub.status.idle": "2020-12-01T18:37:59.826Z"
        }
      }
    },
    {
      "cell_type": "markdown",
      "source": [
        "contiene los cuadrados de todas las entradas de `A`.\n",
        "\n",
        "Esta notación de punto para hacer *broadcast* nos permite escribir expresiones elemento a elemento relativamente complejas de una forma que parece más natural o cercana a la notación matemática. Por ejemplo, podemos escribir:"
      ],
      "metadata": {}
    },
    {
      "cell_type": "code",
      "source": [
        "A .+ 2 .* f.(A) ./ A"
      ],
      "outputs": [
        {
          "output_type": "execute_result",
          "execution_count": 40,
          "data": {
            "text/plain": "3×3 Array{Float64,2}:\n  3.0   6.0   9.0\n 12.0  15.0  18.0\n 21.0  24.0  27.0"
          },
          "metadata": {}
        }
      ],
      "execution_count": 40,
      "metadata": {
        "execution": {
          "iopub.status.busy": "2020-12-01T18:38:48.744Z",
          "iopub.execute_input": "2020-12-01T18:38:48.789Z",
          "iopub.status.idle": "2020-12-01T18:38:48.949Z"
        }
      }
    },
    {
      "cell_type": "markdown",
      "source": [
        "en lugar de..."
      ],
      "metadata": {}
    },
    {
      "cell_type": "code",
      "source": [
        "broadcast(x -> x + 2 * f(x) / x, A)"
      ],
      "outputs": [],
      "execution_count": null,
      "metadata": {
        "execution": {
          "iopub.status.busy": "2020-12-01T08:03:33.174Z",
          "iopub.execute_input": "2020-12-01T08:03:33.201Z",
          "iopub.status.idle": "2020-12-01T08:03:33.246Z"
        }
      }
    },
    {
      "cell_type": "markdown",
      "source": [
        "y las dos se comportan de la misma forma."
      ],
      "metadata": {}
    },
    {
      "cell_type": "markdown",
      "source": [
        "Por último, hay aún más azúcar..."
      ],
      "metadata": {
        "nteract": {
          "transient": {
            "deleting": false
          }
        }
      }
    },
    {
      "cell_type": "code",
      "source": [
        "@. A + 2 * f(A) / A"
      ],
      "outputs": [
        {
          "output_type": "execute_result",
          "execution_count": 41,
          "data": {
            "text/plain": "3×3 Array{Float64,2}:\n  3.0   6.0   9.0\n 12.0  15.0  18.0\n 21.0  24.0  27.0"
          },
          "metadata": {}
        }
      ],
      "execution_count": 41,
      "metadata": {
        "collapsed": true,
        "jupyter": {
          "source_hidden": false,
          "outputs_hidden": false
        },
        "nteract": {
          "transient": {
            "deleting": false
          }
        },
        "execution": {
          "iopub.status.busy": "2020-12-01T18:39:40.716Z",
          "iopub.execute_input": "2020-12-01T18:39:40.747Z",
          "iopub.status.idle": "2020-12-01T18:39:40.896Z"
        }
      }
    },
    {
      "cell_type": "markdown",
      "source": [
        "## Más sobre funciones...\n",
        "\n",
        "La última línea en ejecutarse dentro del cuerpo de una función es lo que Julia regresa por *default*. Podemos hacer esto explícito o hacer que una función regrese en alguna otra parte del cuerpo de la función (por ejemplo, usando condicionales) con la palabra reservada `return`.\n",
        "\n",
        "```julia\n",
        "function g(x, y)\n",
        "  x * y\n",
        "  x + y\n",
        "end\n",
        "```\n",
        "\n",
        "El código anterior, por ejemplo, regresará 5 al llamarse `g(2, 3)`, pero\n",
        "\n",
        "```julia\n",
        "function g(x, y)\n",
        "  return x * y\n",
        "  x + y\n",
        "end\n",
        "```\n",
        "\n",
        "regresará 6.\n",
        "\n",
        "Si quisiéramos una función que no regrese nada, podemos decir explícitamente que regrese `nothing`. `nothing` es un dato de tipo `Nothing` que es un subtipo de `Any` directamente."
      ],
      "metadata": {
        "nteract": {
          "transient": {
            "deleting": false
          }
        }
      }
    },
    {
      "cell_type": "code",
      "source": [
        "function g(x, y)\n",
        "  x + y\n",
        "  return nothing\n",
        "end\n",
        "\n",
        "typeof(g(2, 3))"
      ],
      "outputs": [
        {
          "output_type": "execute_result",
          "execution_count": 3,
          "data": {
            "text/plain": "Nothing"
          },
          "metadata": {}
        }
      ],
      "execution_count": 3,
      "metadata": {
        "collapsed": true,
        "jupyter": {
          "source_hidden": false,
          "outputs_hidden": false
        },
        "nteract": {
          "transient": {
            "deleting": false
          }
        },
        "execution": {
          "iopub.status.busy": "2020-12-02T03:38:21.061Z",
          "iopub.execute_input": "2020-12-02T03:38:21.086Z",
          "iopub.status.idle": "2020-12-02T03:38:21.144Z"
        }
      }
    },
    {
      "cell_type": "markdown",
      "source": [
        "### Ejercicios\n",
        "\n",
        "#### 6.1\n",
        "Escribe una función `add_one` que agregue 1 a su entrada."
      ],
      "metadata": {}
    },
    {
      "cell_type": "code",
      "source": [
        "# Ingresa tu respuesta...\n",
        "\n",
        "# add_one(num) = num + 1\n",
        "\n",
        "function add_one(num)\n",
        "  #println(\"hi\")\n",
        "  return num + 1\n",
        "end"
      ],
      "outputs": [
        {
          "output_type": "execute_result",
          "execution_count": 53,
          "data": {
            "text/plain": "add_one (generic function with 1 method)"
          },
          "metadata": {}
        }
      ],
      "execution_count": 53,
      "metadata": {
        "collapsed": true,
        "jupyter": {
          "source_hidden": false,
          "outputs_hidden": false
        },
        "nteract": {
          "transient": {
            "deleting": false
          }
        },
        "execution": {
          "iopub.status.busy": "2020-12-01T18:51:36.188Z",
          "iopub.execute_input": "2020-12-01T18:51:36.224Z",
          "iopub.status.idle": "2020-12-01T18:51:36.289Z"
        }
      }
    },
    {
      "cell_type": "code",
      "source": [
        "@assert add_one(1) == 2"
      ],
      "outputs": [],
      "execution_count": 54,
      "metadata": {
        "execution": {
          "iopub.status.busy": "2020-12-01T18:51:37.130Z",
          "iopub.execute_input": "2020-12-01T18:51:37.160Z",
          "iopub.status.idle": "2020-12-01T18:51:37.207Z"
        }
      }
    },
    {
      "cell_type": "code",
      "source": [
        "@assert add_one(11) == 12"
      ],
      "outputs": [],
      "execution_count": 55,
      "metadata": {
        "execution": {
          "iopub.status.busy": "2020-12-01T18:51:37.339Z",
          "iopub.execute_input": "2020-12-01T18:51:37.365Z",
          "iopub.status.idle": "2020-12-01T18:51:37.409Z"
        }
      }
    },
    {
      "cell_type": "markdown",
      "source": [
        "#### 6.2\n",
        "Utiliza `map` o `broadcast` para incrementar cada elemento de la matriz `A` en `1` y asigna el resultado a la variable `A1`."
      ],
      "metadata": {}
    },
    {
      "cell_type": "code",
      "source": [
        "A"
      ],
      "outputs": [
        {
          "output_type": "execute_result",
          "execution_count": 56,
          "data": {
            "text/plain": "3×3 Array{Int64,2}:\n 1  2  3\n 4  5  6\n 7  8  9"
          },
          "metadata": {}
        }
      ],
      "execution_count": 56,
      "metadata": {
        "collapsed": true,
        "jupyter": {
          "source_hidden": false,
          "outputs_hidden": false
        },
        "nteract": {
          "transient": {
            "deleting": false
          }
        },
        "execution": {
          "iopub.status.busy": "2020-12-01T18:51:38.644Z",
          "iopub.execute_input": "2020-12-01T18:51:38.675Z",
          "iopub.status.idle": "2020-12-01T18:51:38.735Z"
        }
      }
    },
    {
      "cell_type": "code",
      "source": [
        "# Ingresa tu respuesta...\n",
        "\n",
        "A1 = broadcast(add_one, A)\n",
        "A1"
      ],
      "outputs": [
        {
          "output_type": "execute_result",
          "execution_count": 57,
          "data": {
            "text/plain": "3×3 Array{Int64,2}:\n 2  3   4\n 5  6   7\n 8  9  10"
          },
          "metadata": {}
        }
      ],
      "execution_count": 57,
      "metadata": {
        "collapsed": true,
        "jupyter": {
          "source_hidden": false,
          "outputs_hidden": false
        },
        "nteract": {
          "transient": {
            "deleting": false
          }
        },
        "execution": {
          "iopub.status.busy": "2020-12-01T18:51:39.932Z",
          "iopub.execute_input": "2020-12-01T18:51:39.960Z",
          "iopub.status.idle": "2020-12-01T18:51:40.024Z"
        }
      }
    },
    {
      "cell_type": "markdown",
      "source": [
        "#### 6.3\n",
        "Utiliza la sintaxis de punto para hacer *broadcast* para incrementar cada elemento de la matriz `A1` en `1` y almacena el resultado en la variable `A2`."
      ],
      "metadata": {}
    },
    {
      "cell_type": "code",
      "source": [
        "# Ingresa tu respuesta...\n",
        "A2 = add_one.(A1)"
      ],
      "outputs": [
        {
          "output_type": "execute_result",
          "execution_count": 62,
          "data": {
            "text/plain": "3×3 Array{Int64,2}:\n 3   4   5\n 6   7   8\n 9  10  11"
          },
          "metadata": {}
        }
      ],
      "execution_count": 62,
      "metadata": {
        "collapsed": true,
        "jupyter": {
          "source_hidden": false,
          "outputs_hidden": false
        },
        "nteract": {
          "transient": {
            "deleting": false
          }
        },
        "execution": {
          "iopub.status.busy": "2020-12-01T18:52:33.534Z",
          "iopub.execute_input": "2020-12-01T18:52:33.579Z",
          "iopub.status.idle": "2020-12-01T18:52:33.654Z"
        }
      }
    },
    {
      "cell_type": "code",
      "source": [
        "@assert A2 == [3 4 5; 6 7 8;9 10 11]"
      ],
      "outputs": [],
      "execution_count": 63,
      "metadata": {
        "execution": {
          "iopub.status.busy": "2020-12-01T18:52:34.573Z",
          "iopub.execute_input": "2020-12-01T18:52:34.607Z",
          "iopub.status.idle": "2020-12-01T18:52:34.657Z"
        }
      }
    }
  ],
  "metadata": {
    "language_info": {
      "file_extension": ".jl",
      "name": "julia",
      "mimetype": "application/julia",
      "version": "1.5.3"
    },
    "kernelspec": {
      "name": "julia-1.0",
      "display_name": "Julia 1.0.3",
      "language": "julia"
    },
    "nteract": {
      "version": "0.27.0"
    }
  },
  "nbformat": 4,
  "nbformat_minor": 3
}