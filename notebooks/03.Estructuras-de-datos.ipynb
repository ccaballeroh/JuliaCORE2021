{
  "cells": [
    {
      "cell_type": "markdown",
      "source": [
        "# Estructuras de datos\n",
        "\n",
        "Una vez que comenzamos a trabajar con muchas piezas de datos al mismo tiempo, será conveniente almacenar los datos en estructuras de datos como arreglos o diccionarios (en lugar de solo depender de variables).\n",
        "\n",
        "Los tipos de estructuras de datos cubiertas:\n",
        "\n",
        "1. Tuplas\n",
        "2. Diccionarios\n",
        "3. Arreglos\n",
        "\n",
        "En general, las tuplas y los arreglos son ambos secuencias ordenadas de elementos (así que podemos usar índices con ellos). Los diccionarios y los arreglos son mutables."
      ],
      "metadata": {}
    },
    {
      "cell_type": "markdown",
      "source": [
        "## Tuplas\n",
        "\n",
        "Podemos crear una tupla, al encerrar una colección ordenada de elementos entre `( )`.\n",
        "\n",
        "Sintaxis:\n",
        "\n",
        "```julia\n",
        "(item1, item2, ...)\n",
        "```"
      ],
      "metadata": {}
    },
    {
      "cell_type": "code",
      "source": [
        "myfavoriteanimals = (\"penguins\", \"cats\", \"sugargliders\")"
      ],
      "outputs": [
        {
          "output_type": "execute_result",
          "execution_count": 2,
          "data": {
            "text/plain": "(\"penguins\", \"cats\", \"sugargliders\")"
          },
          "metadata": {}
        }
      ],
      "execution_count": 2,
      "metadata": {
        "execution": {
          "iopub.status.busy": "2020-12-02T03:45:10.978Z",
          "iopub.execute_input": "2020-12-02T03:45:11.014Z",
          "iopub.status.idle": "2020-12-02T03:45:12.079Z"
        }
      }
    },
    {
      "cell_type": "markdown",
      "source": [
        "Podemos usar índices en esta tupla..."
      ],
      "metadata": {}
    },
    {
      "cell_type": "code",
      "source": [
        "myfavoriteanimals[1]"
      ],
      "outputs": [
        {
          "output_type": "execute_result",
          "execution_count": 3,
          "data": {
            "text/plain": "\"penguins\""
          },
          "metadata": {}
        }
      ],
      "execution_count": 3,
      "metadata": {
        "execution": {
          "iopub.status.busy": "2020-12-02T03:45:12.130Z",
          "iopub.execute_input": "2020-12-02T03:45:12.171Z",
          "iopub.status.idle": "2020-12-02T03:45:12.381Z"
        }
      }
    },
    {
      "cell_type": "markdown",
      "source": [
        "...pero ya que las tuplas son inmutables, no las podemos actualizar."
      ],
      "metadata": {}
    },
    {
      "cell_type": "code",
      "source": [
        "myfavoriteanimals[1] = \"otters\""
      ],
      "outputs": [
        {
          "output_type": "error",
          "ename": "LoadError",
          "evalue": "MethodError: no method matching setindex!(::Tuple{String,String,String}, ::String, ::Int64)",
          "traceback": [
            "MethodError: no method matching setindex!(::Tuple{String,String,String}, ::String, ::Int64)",
            "",
            "Stacktrace:",
            " [1] top-level scope at In[4]:1",
            " [2] include_string(::Function, ::Module, ::String, ::String) at .\\loading.jl:1091"
          ]
        }
      ],
      "execution_count": 4,
      "metadata": {
        "execution": {
          "iopub.status.busy": "2020-12-02T03:45:13.926Z",
          "iopub.execute_input": "2020-12-02T03:45:13.954Z",
          "iopub.status.idle": "2020-11-30T19:28:14.490Z"
        }
      }
    },
    {
      "cell_type": "markdown",
      "source": [
        "## NamedTuples\n",
        "\n",
        "Como tal vez se pueda inferir, las tuplas nombradas, `NamedTuple`, son como las tuplas solo que cada elemento además cuenta con un nombre. Tienen una sintaxis especial que usa `=` dentro de una tupla:\n",
        "\n",
        "```julia\n",
        "(name1 = item1, name2 = item2, ...)\n",
        "```"
      ],
      "metadata": {}
    },
    {
      "cell_type": "code",
      "source": [
        "myfavoriteanimals = (bird = \"penguins\", mammal = \"cats\", marsupial = \"sugargliders\")"
      ],
      "outputs": [
        {
          "output_type": "execute_result",
          "execution_count": 5,
          "data": {
            "text/plain": "(bird = \"penguins\", mammal = \"cats\", marsupial = \"sugargliders\")"
          },
          "metadata": {}
        }
      ],
      "execution_count": 5,
      "metadata": {
        "execution": {
          "iopub.status.busy": "2020-12-02T03:45:16.351Z",
          "iopub.execute_input": "2020-12-02T03:45:16.384Z",
          "iopub.status.idle": "2020-12-02T03:45:16.827Z"
        }
      }
    },
    {
      "cell_type": "markdown",
      "source": [
        "Como las tuplas normales, las tuplas nombradas están ordenadas, así que podemos recuperar sus elementos a través del indizado:"
      ],
      "metadata": {}
    },
    {
      "cell_type": "code",
      "source": [
        "myfavoriteanimals[1]"
      ],
      "outputs": [
        {
          "output_type": "execute_result",
          "execution_count": 6,
          "data": {
            "text/plain": "\"penguins\""
          },
          "metadata": {}
        }
      ],
      "execution_count": 6,
      "metadata": {
        "execution": {
          "iopub.status.busy": "2020-12-02T03:45:18.793Z",
          "iopub.execute_input": "2020-12-02T03:45:18.819Z",
          "iopub.status.idle": "2020-12-02T03:45:18.876Z"
        }
      }
    },
    {
      "cell_type": "markdown",
      "source": [
        "También tienen la habilidad especial de acceder a sus valores por su nombre:"
      ],
      "metadata": {}
    },
    {
      "cell_type": "code",
      "source": [
        "myfavoriteanimals.bird"
      ],
      "outputs": [
        {
          "output_type": "execute_result",
          "execution_count": 7,
          "data": {
            "text/plain": "\"penguins\""
          },
          "metadata": {}
        }
      ],
      "execution_count": 7,
      "metadata": {
        "execution": {
          "iopub.status.busy": "2020-12-02T03:45:22.355Z",
          "iopub.execute_input": "2020-12-02T03:45:22.391Z",
          "iopub.status.idle": "2020-12-02T03:45:22.448Z"
        }
      }
    },
    {
      "cell_type": "markdown",
      "source": [
        "## Diccionarios\n",
        "\n",
        "Si tenemos conjuntos de datos relacionados uno con el otro, podemos elegir almacenar esos datos en un diccionario. Podemos crear un diccionario usando la función `Dict()`, que puede inicializar como un diccionario vacío o uno que almacena pares de *key* y *values*.\n",
        "\n",
        "Sintaxis:\n",
        "\n",
        "```julia\n",
        "Dict(key1 => value1, key2 => value2, ...)\n",
        "```\n",
        "\n",
        "\n",
        "Un buen ejemplo es una lista de contactos, en donde asociamos nombres con números telefónicos."
      ],
      "metadata": {}
    },
    {
      "cell_type": "code",
      "source": [
        "myphonebook = Dict(\"Jenny\" => \"867-5309\", \"Ghostbusters\" => \"555-2368\")"
      ],
      "outputs": [
        {
          "output_type": "execute_result",
          "execution_count": 8,
          "data": {
            "text/plain": "Dict{String,String} with 2 entries:\n  \"Jenny\"        => \"867-5309\"\n  \"Ghostbusters\" => \"555-2368\""
          },
          "metadata": {}
        }
      ],
      "execution_count": 8,
      "metadata": {
        "execution": {
          "iopub.status.busy": "2020-12-02T03:45:46.536Z",
          "iopub.execute_input": "2020-12-02T03:45:46.561Z",
          "iopub.status.idle": "2020-12-02T03:45:47.594Z"
        }
      }
    },
    {
      "cell_type": "markdown",
      "source": [
        "En este ejemplo, cada nombre y número son un par de *key* y *value*. Podemos recuperar el número de Jenny (un *value*) usando la *key* asociada."
      ],
      "metadata": {}
    },
    {
      "cell_type": "code",
      "source": [
        "myphonebook[\"Jenny\"]"
      ],
      "outputs": [
        {
          "output_type": "execute_result",
          "execution_count": 9,
          "data": {
            "text/plain": "\"867-5309\""
          },
          "metadata": {}
        }
      ],
      "execution_count": 9,
      "metadata": {
        "execution": {
          "iopub.status.busy": "2020-12-02T03:45:51.645Z",
          "iopub.execute_input": "2020-12-02T03:45:51.674Z",
          "iopub.status.idle": "2020-12-02T03:45:51.734Z"
        }
      }
    },
    {
      "cell_type": "markdown",
      "source": [
        "Podemos agregar una nueva entrada a este diccionario como a continuación:"
      ],
      "metadata": {}
    },
    {
      "cell_type": "code",
      "source": [
        "myphonebook[\"Kramer\"] = \"555-FILK\""
      ],
      "outputs": [
        {
          "output_type": "execute_result",
          "execution_count": 10,
          "data": {
            "text/plain": "\"555-FILK\""
          },
          "metadata": {}
        }
      ],
      "execution_count": 10,
      "metadata": {
        "execution": {
          "iopub.status.busy": "2020-12-02T03:45:55.700Z",
          "iopub.execute_input": "2020-12-02T03:45:55.727Z",
          "iopub.status.idle": "2020-12-02T03:45:55.784Z"
        }
      }
    },
    {
      "cell_type": "markdown",
      "source": [
        "Revisemos cómo se ve nuestra agenda ahora..."
      ],
      "metadata": {}
    },
    {
      "cell_type": "code",
      "source": [
        "myphonebook"
      ],
      "outputs": [
        {
          "output_type": "execute_result",
          "execution_count": 11,
          "data": {
            "text/plain": "Dict{String,String} with 3 entries:\n  \"Jenny\"        => \"867-5309\"\n  \"Kramer\"       => \"555-FILK\"\n  \"Ghostbusters\" => \"555-2368\""
          },
          "metadata": {}
        }
      ],
      "execution_count": 11,
      "metadata": {
        "execution": {
          "iopub.status.busy": "2020-12-02T03:45:59.944Z",
          "iopub.execute_input": "2020-12-02T03:45:59.972Z",
          "iopub.status.idle": "2020-12-02T03:46:00.049Z"
        }
      }
    },
    {
      "cell_type": "markdown",
      "source": [
        "Podemos borrar a Kramer de nuestra lista de contactos --y al mismo tiempo podemos tomar su número-- al usar `pop!`."
      ],
      "metadata": {}
    },
    {
      "cell_type": "code",
      "source": [
        "pop!(myphonebook, \"Kramer\")"
      ],
      "outputs": [
        {
          "output_type": "execute_result",
          "execution_count": 12,
          "data": {
            "text/plain": "\"555-FILK\""
          },
          "metadata": {}
        }
      ],
      "execution_count": 12,
      "metadata": {
        "execution": {
          "iopub.status.busy": "2020-12-02T03:46:05.480Z",
          "iopub.execute_input": "2020-12-02T03:46:05.511Z",
          "iopub.status.idle": "2020-12-02T03:46:05.570Z"
        }
      }
    },
    {
      "cell_type": "code",
      "source": [
        "myphonebook"
      ],
      "outputs": [
        {
          "output_type": "execute_result",
          "execution_count": 13,
          "data": {
            "text/plain": "Dict{String,String} with 2 entries:\n  \"Jenny\"        => \"867-5309\"\n  \"Ghostbusters\" => \"555-2368\""
          },
          "metadata": {}
        }
      ],
      "execution_count": 13,
      "metadata": {
        "execution": {
          "iopub.status.busy": "2020-12-02T03:46:08.361Z",
          "iopub.execute_input": "2020-12-02T03:46:08.389Z",
          "iopub.status.idle": "2020-12-02T03:46:08.446Z"
        }
      }
    },
    {
      "cell_type": "markdown",
      "source": [
        "A diferencia de las tuplas y los arreglos, los diccionarios no están ordenados. Así que no podemos usar índices con ellos."
      ],
      "metadata": {}
    },
    {
      "cell_type": "code",
      "source": [
        "myphonebook[1]"
      ],
      "outputs": [
        {
          "output_type": "error",
          "ename": "LoadError",
          "evalue": "KeyError: key 1 not found",
          "traceback": [
            "KeyError: key 1 not found",
            "",
            "Stacktrace:",
            " [1] getindex(::Dict{String,String}, ::Int64) at .\\dict.jl:467",
            " [2] top-level scope at In[14]:1",
            " [3] include_string(::Function, ::Module, ::String, ::String) at .\\loading.jl:1091"
          ]
        }
      ],
      "execution_count": 14,
      "metadata": {
        "execution": {
          "iopub.status.busy": "2020-12-02T03:46:12.563Z",
          "iopub.execute_input": "2020-12-02T03:46:12.591Z",
          "iopub.status.idle": "2020-11-30T10:39:59.193Z"
        }
      }
    },
    {
      "cell_type": "markdown",
      "source": [
        "En el ejemplo anterior, Julia piensa que estás intentando acceder a un valor asociado con la *key* 1."
      ],
      "metadata": {}
    },
    {
      "cell_type": "markdown",
      "source": [
        "## Arreglos\n",
        "\n",
        "A diferencia de las tuplas, los arreglos son mutables. A diferencia de los diccionarios, los arreglos contienen colecciones ordenadas. Podemos crear un arreglo al encerrar esta colección en `[ ]`.\n",
        "\n",
        "Sintaxis:\n",
        "\n",
        "```julia\n",
        "[item1, item2, ...]\n",
        "```\n",
        "\n",
        "\n",
        "Por ejemplo, podemos crear un arreglo para llevar el registro de nuestros amigos."
      ],
      "metadata": {}
    },
    {
      "cell_type": "code",
      "source": [
        "myfriends = [\"Ted\", \"Robyn\", \"Barney\", \"Lily\", \"Marshall\"]"
      ],
      "outputs": [
        {
          "output_type": "execute_result",
          "execution_count": 18,
          "data": {
            "text/plain": "5-element Array{String,1}:\n \"Ted\"\n \"Robyn\"\n \"Barney\"\n \"Lily\"\n \"Marshall\""
          },
          "metadata": {}
        }
      ],
      "execution_count": 18,
      "metadata": {
        "execution": {
          "iopub.status.busy": "2020-12-02T03:47:27.362Z",
          "iopub.execute_input": "2020-12-02T03:47:27.388Z",
          "iopub.status.idle": "2020-12-02T03:47:28.560Z"
        }
      }
    },
    {
      "cell_type": "markdown",
      "source": [
        "El `1` en `Array{String,1}` significa que es un vector de una dimensión. Un `Array{String,2}` sería una matriz de 2-D, etc.  El `String` es el tipo de cada elemento."
      ],
      "metadata": {}
    },
    {
      "cell_type": "code",
      "source": [
        "fibonacci = [1, 1, 2, 3, 5, 8, 13]"
      ],
      "outputs": [
        {
          "output_type": "execute_result",
          "execution_count": 19,
          "data": {
            "text/plain": "7-element Array{Int64,1}:\n  1\n  1\n  2\n  3\n  5\n  8\n 13"
          },
          "metadata": {}
        }
      ],
      "execution_count": 19,
      "metadata": {
        "execution": {
          "iopub.status.busy": "2020-12-02T03:47:29.810Z",
          "iopub.execute_input": "2020-12-02T03:47:29.838Z",
          "iopub.status.idle": "2020-12-02T03:47:29.892Z"
        }
      }
    },
    {
      "cell_type": "code",
      "source": [
        "mixture = [1, 1, 2, 3, \"Ted\", \"Robyn\"]"
      ],
      "outputs": [
        {
          "output_type": "execute_result",
          "execution_count": 20,
          "data": {
            "text/plain": "6-element Array{Any,1}:\n 1\n 1\n 2\n 3\n  \"Ted\"\n  \"Robyn\""
          },
          "metadata": {}
        }
      ],
      "execution_count": 20,
      "metadata": {
        "execution": {
          "iopub.status.busy": "2020-12-02T03:47:30.559Z",
          "iopub.execute_input": "2020-12-02T03:47:30.584Z",
          "iopub.status.idle": "2020-12-02T03:47:30.637Z"
        }
      }
    },
    {
      "cell_type": "markdown",
      "source": [
        "Una vez que se tiene un arreglo, podemos tomar partes individuales de los datos dentro del arreglo al usar índices. Por ejemplo, si queremos el tercer amigo de la lista en `myfriends`, escribimos:"
      ],
      "metadata": {}
    },
    {
      "cell_type": "code",
      "source": [
        "myfriends[3]"
      ],
      "outputs": [
        {
          "output_type": "execute_result",
          "execution_count": 21,
          "data": {
            "text/plain": "\"Barney\""
          },
          "metadata": {}
        }
      ],
      "execution_count": 21,
      "metadata": {
        "execution": {
          "iopub.status.busy": "2020-12-02T03:47:33.254Z",
          "iopub.execute_input": "2020-12-02T03:47:33.280Z",
          "iopub.status.idle": "2020-12-02T03:47:33.331Z"
        }
      }
    },
    {
      "cell_type": "code",
      "source": [
        "myfriends"
      ],
      "outputs": [
        {
          "output_type": "execute_result",
          "execution_count": 22,
          "data": {
            "text/plain": "5-element Array{String,1}:\n \"Ted\"\n \"Robyn\"\n \"Barney\"\n \"Lily\"\n \"Marshall\""
          },
          "metadata": {}
        }
      ],
      "execution_count": 22,
      "metadata": {
        "collapsed": true,
        "jupyter": {
          "source_hidden": false,
          "outputs_hidden": false
        },
        "nteract": {
          "transient": {
            "deleting": false
          }
        },
        "execution": {
          "iopub.status.busy": "2020-12-02T03:47:35.812Z",
          "iopub.execute_input": "2020-12-02T03:47:35.836Z",
          "iopub.status.idle": "2020-12-02T03:47:35.888Z"
        }
      }
    },
    {
      "cell_type": "markdown",
      "source": [
        "Podemos usar los índices para editar un elemento existente de un arreglo."
      ],
      "metadata": {}
    },
    {
      "cell_type": "code",
      "source": [
        "myfriends[3] = \"Baby Bop\"\n",
        "myfriends"
      ],
      "outputs": [
        {
          "output_type": "execute_result",
          "execution_count": 23,
          "data": {
            "text/plain": "5-element Array{String,1}:\n \"Ted\"\n \"Robyn\"\n \"Baby Bop\"\n \"Lily\"\n \"Marshall\""
          },
          "metadata": {}
        }
      ],
      "execution_count": 23,
      "metadata": {
        "execution": {
          "iopub.status.busy": "2020-12-02T03:47:42.024Z",
          "iopub.execute_input": "2020-12-02T03:47:42.057Z",
          "iopub.status.idle": "2020-12-02T03:47:42.118Z"
        }
      }
    },
    {
      "cell_type": "markdown",
      "source": [
        "Sí, Julia usa índices empezando con 1 como MATLAB y no en 0 como Python o C."
      ],
      "metadata": {}
    },
    {
      "cell_type": "markdown",
      "source": [
        "También podemos editar el arreglo al usar las funciones `push!` y `pop!`. `push!` agrega un elemento al final de un arreglo y `pop!` remueve el último elemento de un arreglo.\n",
        "\n",
        "Podemos agregar otro número a nuestra secuencia de Fibonacci..."
      ],
      "metadata": {}
    },
    {
      "cell_type": "code",
      "source": [
        "fibonacci"
      ],
      "outputs": [
        {
          "output_type": "execute_result",
          "execution_count": 24,
          "data": {
            "text/plain": "7-element Array{Int64,1}:\n  1\n  1\n  2\n  3\n  5\n  8\n 13"
          },
          "metadata": {}
        }
      ],
      "execution_count": 24,
      "metadata": {
        "collapsed": true,
        "jupyter": {
          "source_hidden": false,
          "outputs_hidden": false
        },
        "nteract": {
          "transient": {
            "deleting": false
          }
        },
        "execution": {
          "iopub.status.busy": "2020-12-02T03:48:14.458Z",
          "iopub.execute_input": "2020-12-02T03:48:14.487Z",
          "iopub.status.idle": "2020-12-02T03:48:14.551Z"
        }
      }
    },
    {
      "cell_type": "code",
      "source": [
        "push!(fibonacci, 21)"
      ],
      "outputs": [
        {
          "output_type": "execute_result",
          "execution_count": 25,
          "data": {
            "text/plain": "8-element Array{Int64,1}:\n  1\n  1\n  2\n  3\n  5\n  8\n 13\n 21"
          },
          "metadata": {}
        }
      ],
      "execution_count": 25,
      "metadata": {
        "execution": {
          "iopub.status.busy": "2020-12-02T03:48:15.349Z",
          "iopub.execute_input": "2020-12-02T03:48:15.375Z",
          "iopub.status.idle": "2020-12-02T03:48:15.430Z"
        }
      }
    },
    {
      "cell_type": "code",
      "source": [
        "fibonacci"
      ],
      "outputs": [
        {
          "output_type": "execute_result",
          "execution_count": 26,
          "data": {
            "text/plain": "8-element Array{Int64,1}:\n  1\n  1\n  2\n  3\n  5\n  8\n 13\n 21"
          },
          "metadata": {}
        }
      ],
      "execution_count": 26,
      "metadata": {
        "collapsed": true,
        "jupyter": {
          "source_hidden": false,
          "outputs_hidden": false
        },
        "nteract": {
          "transient": {
            "deleting": false
          }
        },
        "execution": {
          "iopub.status.busy": "2020-12-02T03:48:15.907Z",
          "iopub.execute_input": "2020-12-02T03:48:15.935Z",
          "iopub.status.idle": "2020-12-02T03:48:15.996Z"
        }
      }
    },
    {
      "cell_type": "markdown",
      "source": [
        "...y después removerlo."
      ],
      "metadata": {}
    },
    {
      "cell_type": "code",
      "source": [
        "pop!(fibonacci)"
      ],
      "outputs": [
        {
          "output_type": "execute_result",
          "execution_count": 27,
          "data": {
            "text/plain": "21"
          },
          "metadata": {}
        }
      ],
      "execution_count": 27,
      "metadata": {
        "execution": {
          "iopub.status.busy": "2020-12-02T03:48:20.484Z",
          "iopub.execute_input": "2020-12-02T03:48:20.510Z",
          "iopub.status.idle": "2020-12-02T03:48:20.740Z"
        }
      }
    },
    {
      "cell_type": "code",
      "source": [
        "fibonacci"
      ],
      "outputs": [
        {
          "output_type": "execute_result",
          "execution_count": 28,
          "data": {
            "text/plain": "7-element Array{Int64,1}:\n  1\n  1\n  2\n  3\n  5\n  8\n 13"
          },
          "metadata": {}
        }
      ],
      "execution_count": 28,
      "metadata": {
        "execution": {
          "iopub.status.busy": "2020-12-02T03:48:21.591Z",
          "iopub.execute_input": "2020-12-02T03:48:21.618Z",
          "iopub.status.idle": "2020-12-02T03:48:21.678Z"
        }
      }
    },
    {
      "cell_type": "markdown",
      "source": [
        "Hasta ahora, solo hemos visto ejemplos de arreglos de una dimensión de escalares, pero los arreglos pueden tener un número arbitrario de dimensiones y también pueden almacenar otros arreglos.\n",
        "\n",
        "Por ejemplo, los siguientes son arreglos de arreglos:"
      ],
      "metadata": {}
    },
    {
      "cell_type": "code",
      "source": [
        "favorites = [[\"koobideh\", \"chocolate\", \"eggs\"],[\"penguins\", \"cats\", \"sugargliders\"]]"
      ],
      "outputs": [
        {
          "output_type": "execute_result",
          "execution_count": 29,
          "data": {
            "text/plain": "2-element Array{Array{String,1},1}:\n [\"koobideh\", \"chocolate\", \"eggs\"]\n [\"penguins\", \"cats\", \"sugargliders\"]"
          },
          "metadata": {}
        }
      ],
      "execution_count": 29,
      "metadata": {
        "execution": {
          "iopub.status.busy": "2020-12-02T03:48:41.808Z",
          "iopub.execute_input": "2020-12-02T03:48:41.836Z",
          "iopub.status.idle": "2020-12-02T03:48:43.077Z"
        }
      }
    },
    {
      "cell_type": "code",
      "source": [
        "numbers = [[1, 2, 3], [4, 5], [6, 7, 8, 9]]"
      ],
      "outputs": [
        {
          "output_type": "execute_result",
          "execution_count": 30,
          "data": {
            "text/plain": "3-element Array{Array{Int64,1},1}:\n [1, 2, 3]\n [4, 5]\n [6, 7, 8, 9]"
          },
          "metadata": {}
        }
      ],
      "execution_count": 30,
      "metadata": {
        "execution": {
          "iopub.status.busy": "2020-12-02T03:48:43.121Z",
          "iopub.execute_input": "2020-12-02T03:48:43.147Z",
          "iopub.status.idle": "2020-12-02T03:48:44.459Z"
        }
      }
    },
    {
      "cell_type": "markdown",
      "source": [
        "A continuación, hay ejemplos de arreglos de 2-D y 3-D con valores aleatorios."
      ],
      "metadata": {}
    },
    {
      "cell_type": "code",
      "source": [
        "rand(4, 3)"
      ],
      "outputs": [
        {
          "output_type": "execute_result",
          "execution_count": 31,
          "data": {
            "text/plain": "4×3 Array{Float64,2}:\n 0.524969  0.758438  0.405988\n 0.292289  0.54944   0.313574\n 0.911871  0.27099   0.548844\n 0.894262  0.592909  0.450153"
          },
          "metadata": {}
        }
      ],
      "execution_count": 31,
      "metadata": {
        "execution": {
          "iopub.status.busy": "2020-12-02T03:48:44.840Z",
          "iopub.execute_input": "2020-12-02T03:48:44.866Z",
          "iopub.status.idle": "2020-12-02T03:48:46.408Z"
        }
      }
    },
    {
      "cell_type": "code",
      "source": [
        "rand(4, 3, 2)"
      ],
      "outputs": [
        {
          "output_type": "execute_result",
          "execution_count": 32,
          "data": {
            "text/plain": "4×3×2 Array{Float64,3}:\n[:, :, 1] =\n 0.48386   0.417123  0.434324\n 0.716948  0.476701  0.278819\n 0.762068  0.707449  0.65543\n 0.299887  0.356354  0.308439\n\n[:, :, 2] =\n 0.843792    0.882244   0.998806\n 0.774775    0.156415   0.780774\n 0.00150311  0.0207465  0.261939\n 0.696846    0.454664   0.161479"
          },
          "metadata": {}
        }
      ],
      "execution_count": 32,
      "metadata": {
        "execution": {
          "iopub.status.busy": "2020-12-02T03:48:47.060Z",
          "iopub.execute_input": "2020-12-02T03:48:47.088Z",
          "iopub.status.idle": "2020-12-02T03:48:48.489Z"
        }
      }
    },
    {
      "cell_type": "markdown",
      "source": [
        "¡Ten cuidado cuando desees copiar arreglos!"
      ],
      "metadata": {}
    },
    {
      "cell_type": "code",
      "source": [
        "fibonacci"
      ],
      "outputs": [
        {
          "output_type": "execute_result",
          "execution_count": 33,
          "data": {
            "text/plain": "7-element Array{Int64,1}:\n  1\n  1\n  2\n  3\n  5\n  8\n 13"
          },
          "metadata": {}
        }
      ],
      "execution_count": 33,
      "metadata": {
        "execution": {
          "iopub.status.busy": "2020-12-02T03:48:51.550Z",
          "iopub.execute_input": "2020-12-02T03:48:51.577Z",
          "iopub.status.idle": "2020-12-02T03:48:51.630Z"
        }
      }
    },
    {
      "cell_type": "code",
      "source": [
        "somenumbers = fibonacci"
      ],
      "outputs": [
        {
          "output_type": "execute_result",
          "execution_count": 34,
          "data": {
            "text/plain": "7-element Array{Int64,1}:\n  1\n  1\n  2\n  3\n  5\n  8\n 13"
          },
          "metadata": {}
        }
      ],
      "execution_count": 34,
      "metadata": {
        "execution": {
          "iopub.status.busy": "2020-12-02T03:48:51.950Z",
          "iopub.execute_input": "2020-12-02T03:48:51.976Z",
          "iopub.status.idle": "2020-12-02T03:48:52.031Z"
        }
      }
    },
    {
      "cell_type": "code",
      "source": [
        "somenumbers[1] = 404"
      ],
      "outputs": [
        {
          "output_type": "execute_result",
          "execution_count": 35,
          "data": {
            "text/plain": "404"
          },
          "metadata": {}
        }
      ],
      "execution_count": 35,
      "metadata": {
        "execution": {
          "iopub.status.busy": "2020-12-02T03:48:52.870Z",
          "iopub.execute_input": "2020-12-02T03:48:52.900Z",
          "iopub.status.idle": "2020-12-02T03:48:52.965Z"
        }
      }
    },
    {
      "cell_type": "code",
      "source": [
        "somenumbers"
      ],
      "outputs": [
        {
          "output_type": "execute_result",
          "execution_count": 36,
          "data": {
            "text/plain": "7-element Array{Int64,1}:\n 404\n   1\n   2\n   3\n   5\n   8\n  13"
          },
          "metadata": {}
        }
      ],
      "execution_count": 36,
      "metadata": {
        "collapsed": true,
        "jupyter": {
          "source_hidden": false,
          "outputs_hidden": false
        },
        "nteract": {
          "transient": {
            "deleting": false
          }
        },
        "execution": {
          "iopub.status.busy": "2020-12-02T03:48:55.050Z",
          "iopub.execute_input": "2020-12-02T03:48:55.078Z",
          "iopub.status.idle": "2020-12-02T03:48:55.131Z"
        }
      }
    },
    {
      "cell_type": "code",
      "source": [
        "fibonacci"
      ],
      "outputs": [
        {
          "output_type": "execute_result",
          "execution_count": 37,
          "data": {
            "text/plain": "7-element Array{Int64,1}:\n 404\n   1\n   2\n   3\n   5\n   8\n  13"
          },
          "metadata": {}
        }
      ],
      "execution_count": 37,
      "metadata": {
        "execution": {
          "iopub.status.busy": "2020-12-02T03:48:55.941Z",
          "iopub.execute_input": "2020-12-02T03:48:55.966Z",
          "iopub.status.idle": "2020-12-02T03:48:56.022Z"
        }
      }
    },
    {
      "cell_type": "markdown",
      "source": [
        "¡Editar `somenumbers` provocó que `fibonacci` también se actualizara!\n",
        "\n",
        "En el ejemplo anterior, no hicimos una copia de `fibonacci`. Solo creamos una nueva forma de acceder a las entradas en el arreglo asociado a `fibonacci`.\n",
        "\n",
        "Si quisiéramos hacer una copia del arreglo asociado o ligado a `fibonacci`, podemos usar la función `copy`."
      ],
      "metadata": {}
    },
    {
      "cell_type": "code",
      "source": [
        "# Primero, establece fibonacci\n",
        "fibonacci[1] = 1\n",
        "fibonacci"
      ],
      "outputs": [
        {
          "output_type": "execute_result",
          "execution_count": 38,
          "data": {
            "text/plain": "7-element Array{Int64,1}:\n  1\n  1\n  2\n  3\n  5\n  8\n 13"
          },
          "metadata": {}
        }
      ],
      "execution_count": 38,
      "metadata": {
        "execution": {
          "iopub.status.busy": "2020-12-02T03:49:07.794Z",
          "iopub.execute_input": "2020-12-02T03:49:07.825Z",
          "iopub.status.idle": "2020-12-02T03:49:07.891Z"
        }
      }
    },
    {
      "cell_type": "code",
      "source": [
        "somemorenumbers = copy(fibonacci)"
      ],
      "outputs": [
        {
          "output_type": "execute_result",
          "execution_count": 39,
          "data": {
            "text/plain": "7-element Array{Int64,1}:\n  1\n  1\n  2\n  3\n  5\n  8\n 13"
          },
          "metadata": {}
        }
      ],
      "execution_count": 39,
      "metadata": {
        "execution": {
          "iopub.status.busy": "2020-12-02T03:49:11.068Z",
          "iopub.execute_input": "2020-12-02T03:49:11.097Z",
          "iopub.status.idle": "2020-12-02T03:49:11.157Z"
        }
      }
    },
    {
      "cell_type": "code",
      "source": [
        "somemorenumbers[1] = 404"
      ],
      "outputs": [
        {
          "output_type": "execute_result",
          "execution_count": 40,
          "data": {
            "text/plain": "404"
          },
          "metadata": {}
        }
      ],
      "execution_count": 40,
      "metadata": {
        "execution": {
          "iopub.status.busy": "2020-12-02T03:49:12.438Z",
          "iopub.execute_input": "2020-12-02T03:49:12.465Z",
          "iopub.status.idle": "2020-12-02T03:49:12.524Z"
        }
      }
    },
    {
      "cell_type": "code",
      "source": [
        "somemorenumbers\n"
      ],
      "outputs": [
        {
          "output_type": "execute_result",
          "execution_count": 41,
          "data": {
            "text/plain": "7-element Array{Int64,1}:\n 404\n   1\n   2\n   3\n   5\n   8\n  13"
          },
          "metadata": {}
        }
      ],
      "execution_count": 41,
      "metadata": {
        "collapsed": true,
        "jupyter": {
          "source_hidden": false,
          "outputs_hidden": false
        },
        "nteract": {
          "transient": {
            "deleting": false
          }
        },
        "execution": {
          "iopub.status.busy": "2020-12-02T03:49:13.196Z",
          "iopub.execute_input": "2020-12-02T03:49:13.224Z",
          "iopub.status.idle": "2020-12-02T03:49:13.282Z"
        }
      }
    },
    {
      "cell_type": "code",
      "source": [
        "fibonacci"
      ],
      "outputs": [
        {
          "output_type": "execute_result",
          "execution_count": 42,
          "data": {
            "text/plain": "7-element Array{Int64,1}:\n  1\n  1\n  2\n  3\n  5\n  8\n 13"
          },
          "metadata": {}
        }
      ],
      "execution_count": 42,
      "metadata": {
        "execution": {
          "iopub.status.busy": "2020-12-02T03:49:14.468Z",
          "iopub.execute_input": "2020-12-02T03:49:14.500Z",
          "iopub.status.idle": "2020-12-02T03:49:14.575Z"
        }
      }
    },
    {
      "cell_type": "markdown",
      "source": [
        "En este último ejemplo, `fibonacci` no se actualizó. Por lo tanto, vemos que los arreglos ligados a `somemorenumbers` y `fibonacci` son distintos."
      ],
      "metadata": {}
    },
    {
      "cell_type": "markdown",
      "source": [
        "### Ejercicios\n",
        "\n",
        "#### 3.1\n",
        "Crea un arreglo, `a_ray`, con el siguiente código:\n",
        "\n",
        "```julia\n",
        "a_ray = [1, 2, 3]\n",
        "```\n",
        "\n",
        "Agrega el número `4` al final de este arreglo y después remúevelo."
      ],
      "metadata": {}
    },
    {
      "cell_type": "code",
      "source": [
        "# Ingresa tu respuesta...\n",
        "a_ray = [1, 2, 3]"
      ],
      "outputs": [
        {
          "output_type": "execute_result",
          "execution_count": 43,
          "data": {
            "text/plain": "3-element Array{Int64,1}:\n 1\n 2\n 3"
          },
          "metadata": {}
        }
      ],
      "execution_count": 43,
      "metadata": {
        "collapsed": true,
        "jupyter": {
          "source_hidden": false,
          "outputs_hidden": false
        },
        "nteract": {
          "transient": {
            "deleting": false
          }
        },
        "execution": {
          "iopub.status.busy": "2020-12-02T03:49:36.440Z",
          "iopub.execute_input": "2020-12-02T03:49:36.471Z",
          "iopub.status.idle": "2020-12-02T03:49:36.534Z"
        }
      }
    },
    {
      "cell_type": "code",
      "source": [
        "push!(a_ray, 4)"
      ],
      "outputs": [
        {
          "output_type": "execute_result",
          "execution_count": 44,
          "data": {
            "text/plain": "4-element Array{Int64,1}:\n 1\n 2\n 3\n 4"
          },
          "metadata": {}
        }
      ],
      "execution_count": 44,
      "metadata": {
        "collapsed": true,
        "jupyter": {
          "source_hidden": false,
          "outputs_hidden": false
        },
        "nteract": {
          "transient": {
            "deleting": false
          }
        },
        "execution": {
          "iopub.status.busy": "2020-12-02T03:49:47.705Z",
          "iopub.execute_input": "2020-12-02T03:49:47.828Z",
          "iopub.status.idle": "2020-12-02T03:49:47.889Z"
        }
      }
    },
    {
      "cell_type": "code",
      "source": [
        "pop!(a_ray)"
      ],
      "outputs": [
        {
          "output_type": "execute_result",
          "execution_count": 45,
          "data": {
            "text/plain": "4"
          },
          "metadata": {}
        }
      ],
      "execution_count": 45,
      "metadata": {
        "collapsed": true,
        "jupyter": {
          "source_hidden": false,
          "outputs_hidden": false
        },
        "nteract": {
          "transient": {
            "deleting": false
          }
        },
        "execution": {
          "iopub.status.busy": "2020-12-02T03:50:01.386Z",
          "iopub.execute_input": "2020-12-02T03:50:01.420Z",
          "iopub.status.idle": "2020-12-02T03:50:01.491Z"
        }
      }
    },
    {
      "cell_type": "code",
      "source": [
        "a_ray"
      ],
      "outputs": [
        {
          "output_type": "execute_result",
          "execution_count": 46,
          "data": {
            "text/plain": "3-element Array{Int64,1}:\n 1\n 2\n 3"
          },
          "metadata": {}
        }
      ],
      "execution_count": 46,
      "metadata": {
        "collapsed": true,
        "jupyter": {
          "source_hidden": false,
          "outputs_hidden": false
        },
        "nteract": {
          "transient": {
            "deleting": false
          }
        },
        "execution": {
          "iopub.status.busy": "2020-12-02T03:50:14.719Z",
          "iopub.execute_input": "2020-12-02T03:50:14.752Z",
          "iopub.status.idle": "2020-12-02T03:50:14.820Z"
        }
      }
    },
    {
      "cell_type": "code",
      "source": [
        "@assert a_ray == [1, 2, 3]"
      ],
      "outputs": [],
      "execution_count": 47,
      "metadata": {
        "execution": {
          "iopub.status.busy": "2020-12-02T03:50:18.407Z",
          "iopub.execute_input": "2020-12-02T03:50:18.443Z",
          "iopub.status.idle": "2020-12-02T03:50:18.499Z"
        }
      }
    },
    {
      "cell_type": "markdown",
      "source": [
        "#### 3.2\n",
        "\n",
        "Intenta agregar \"Emergency\" como *key* a `myphonebook` con el valor `string(911)` con el siguiente código:\n",
        "\n",
        "```julia\n",
        "myphonebook[\"Emergency\"] = 911\n",
        "```\n",
        "\n",
        "¿Por qué esto no funciona?"
      ],
      "metadata": {}
    },
    {
      "cell_type": "code",
      "source": [
        "# Tu respuesta...\n",
        "myphonebook[\"Emergency\"] = 911"
      ],
      "outputs": [
        {
          "output_type": "error",
          "ename": "LoadError",
          "evalue": "MethodError: Cannot `convert` an object of type Int64 to an object of type String\nClosest candidates are:\n  convert(::Type{T}, !Matched::T) where T<:AbstractString at strings/basic.jl:229\n  convert(::Type{T}, !Matched::AbstractString) where T<:AbstractString at strings/basic.jl:230\n  convert(::Type{T}, !Matched::T) where T at essentials.jl:171",
          "traceback": [
            "MethodError: Cannot `convert` an object of type Int64 to an object of type String\nClosest candidates are:\n  convert(::Type{T}, !Matched::T) where T<:AbstractString at strings/basic.jl:229\n  convert(::Type{T}, !Matched::AbstractString) where T<:AbstractString at strings/basic.jl:230\n  convert(::Type{T}, !Matched::T) where T at essentials.jl:171",
            "",
            "Stacktrace:",
            " [1] setindex!(::Dict{String,String}, ::Int64, ::String) at .\\dict.jl:380",
            " [2] top-level scope at In[48]:2",
            " [3] include_string(::Function, ::Module, ::String, ::String) at .\\loading.jl:1091"
          ]
        }
      ],
      "execution_count": 48,
      "metadata": {
        "collapsed": true,
        "jupyter": {
          "source_hidden": false,
          "outputs_hidden": false
        },
        "nteract": {
          "transient": {
            "deleting": false
          }
        },
        "execution": {
          "iopub.status.busy": "2020-12-02T03:50:54.234Z",
          "iopub.execute_input": "2020-12-02T03:50:54.269Z",
          "iopub.status.idle": "2020-11-30T10:58:20.293Z"
        }
      }
    },
    {
      "cell_type": "code",
      "source": [
        "# La celda anterior no funciona porque `911` es un dato de tipo entero y el diccionario está definido para pares de cadenas.\n",
        "# Podemos agregarlo pasando una cadena:\n",
        "\n",
        "myphonebook[\"Emergency\"] = \"911\"\n",
        "myphonebook"
      ],
      "outputs": [
        {
          "output_type": "execute_result",
          "execution_count": 50,
          "data": {
            "text/plain": "Dict{String,String} with 3 entries:\n  \"Jenny\"        => \"867-5309\"\n  \"Emergency\"    => \"911\"\n  \"Ghostbusters\" => \"555-2368\""
          },
          "metadata": {}
        }
      ],
      "execution_count": 50,
      "metadata": {
        "collapsed": true,
        "jupyter": {
          "source_hidden": false,
          "outputs_hidden": false
        },
        "nteract": {
          "transient": {
            "deleting": false
          }
        },
        "execution": {
          "iopub.status.busy": "2020-12-02T03:52:17.758Z",
          "iopub.execute_input": "2020-12-02T03:52:17.784Z",
          "iopub.status.idle": "2020-12-02T03:52:17.840Z"
        }
      }
    },
    {
      "cell_type": "markdown",
      "source": [
        "#### 3.3\n",
        "Crea un nuevo diccionario que se llame `flexible_phonebook` que tenga el número de Jenny almacenado como un entero y el número de los Ghostbusters almacenado como una cadena con el siguiente código:\n",
        "\n",
        "```julia\n",
        "flexible_phonebook = Dict(\"Jenny\" => 8675309, \"Ghostbusters\" => \"555-2368\")\n",
        "```"
      ],
      "metadata": {}
    },
    {
      "cell_type": "code",
      "source": [
        "# Ingresa tu respuesta...\n",
        "flexible_phonebook = Dict(\"Jenny\" => 8675309, \"Ghostbusters\" => \"555-2368\")"
      ],
      "outputs": [
        {
          "output_type": "execute_result",
          "execution_count": 51,
          "data": {
            "text/plain": "Dict{String,Any} with 2 entries:\n  \"Jenny\"        => 8675309\n  \"Ghostbusters\" => \"555-2368\""
          },
          "metadata": {}
        }
      ],
      "execution_count": 51,
      "metadata": {
        "collapsed": true,
        "jupyter": {
          "source_hidden": false,
          "outputs_hidden": false
        },
        "nteract": {
          "transient": {
            "deleting": false
          }
        },
        "execution": {
          "iopub.status.busy": "2020-12-02T03:53:18.351Z",
          "iopub.execute_input": "2020-12-02T03:53:18.382Z",
          "iopub.status.idle": "2020-12-02T03:53:19.040Z"
        }
      }
    },
    {
      "cell_type": "markdown",
      "source": [
        "Nota que el tipo del diccionario ahora son pares de cadenas y datos `Any` porque los valores que pasamos al crearlo fueron enteros y cadena. El tipo en la jerarquía de tipos de Julia que puede almacenar ambos datos es `Any`."
      ],
      "metadata": {
        "nteract": {
          "transient": {
            "deleting": false
          }
        }
      }
    },
    {
      "cell_type": "code",
      "source": [
        "@assert flexible_phonebook == Dict(\"Jenny\" => 8675309, \"Ghostbusters\" => \"555-2368\")"
      ],
      "outputs": [],
      "execution_count": 52,
      "metadata": {
        "execution": {
          "iopub.status.busy": "2020-12-02T03:54:49.474Z",
          "iopub.execute_input": "2020-12-02T03:54:49.505Z",
          "iopub.status.idle": "2020-12-02T03:54:49.557Z"
        }
      }
    },
    {
      "cell_type": "markdown",
      "source": [
        "#### 3.4\n",
        "Agrega la *key* \"Emergency\" con el valor `911` (un entero) a `flexible_phonebook`."
      ],
      "metadata": {}
    },
    {
      "cell_type": "code",
      "source": [
        "flexible_phonebook[\"Emergency\"] = 911\n",
        "flexible_phonebook"
      ],
      "outputs": [
        {
          "output_type": "execute_result",
          "execution_count": 53,
          "data": {
            "text/plain": "Dict{String,Any} with 3 entries:\n  \"Jenny\"        => 8675309\n  \"Emergency\"    => 911\n  \"Ghostbusters\" => \"555-2368\""
          },
          "metadata": {}
        }
      ],
      "execution_count": 53,
      "metadata": {
        "collapsed": true,
        "jupyter": {
          "source_hidden": false,
          "outputs_hidden": false
        },
        "nteract": {
          "transient": {
            "deleting": false
          }
        },
        "execution": {
          "iopub.status.busy": "2020-12-02T03:55:26.017Z",
          "iopub.execute_input": "2020-12-02T03:55:26.046Z",
          "iopub.status.idle": "2020-12-02T03:55:26.107Z"
        }
      }
    },
    {
      "cell_type": "code",
      "source": [
        "@assert haskey(flexible_phonebook, \"Emergency\")"
      ],
      "outputs": [],
      "execution_count": 54,
      "metadata": {
        "execution": {
          "iopub.status.busy": "2020-12-02T03:55:33.280Z",
          "iopub.execute_input": "2020-12-02T03:55:33.313Z",
          "iopub.status.idle": "2020-12-02T03:55:33.362Z"
        }
      }
    },
    {
      "cell_type": "code",
      "source": [
        "@assert flexible_phonebook[\"Emergency\"] == 911"
      ],
      "outputs": [],
      "execution_count": 55,
      "metadata": {
        "execution": {
          "iopub.status.busy": "2020-12-02T03:55:35.113Z",
          "iopub.execute_input": "2020-12-02T03:55:35.140Z",
          "iopub.status.idle": "2020-12-02T03:55:35.184Z"
        }
      }
    },
    {
      "cell_type": "markdown",
      "source": [
        "#### 3.5\n",
        "¿Por qué podemos agregar un entero como un valor a `flexible_phonebook`, pero no a `myphonebook`? ¿Cómo podríamos haber inicializado `myphonebook` para que aceptara enteros como valores?"
      ],
      "metadata": {}
    },
    {
      "cell_type": "markdown",
      "source": [
        "Porque el tipo de pares de datos de `flexible_phonebook` es cadena y `Any`. Podríamos haber definido el `myphonebook` especicando el tipo de datos al momento de su creación:"
      ],
      "metadata": {
        "nteract": {
          "transient": {
            "deleting": false
          }
        }
      }
    },
    {
      "cell_type": "code",
      "source": [
        "myphonebook = Dict{String, Any}(\"Jenny\" => \"867-5309\", \"Ghostbusters\" => \"555-2368\")"
      ],
      "outputs": [
        {
          "output_type": "execute_result",
          "execution_count": 56,
          "data": {
            "text/plain": "Dict{String,Any} with 2 entries:\n  \"Jenny\"        => \"867-5309\"\n  \"Ghostbusters\" => \"555-2368\""
          },
          "metadata": {}
        }
      ],
      "execution_count": 56,
      "metadata": {
        "collapsed": true,
        "jupyter": {
          "source_hidden": false,
          "outputs_hidden": false
        },
        "nteract": {
          "transient": {
            "deleting": false
          }
        },
        "execution": {
          "iopub.status.busy": "2020-12-02T03:58:06.455Z",
          "iopub.execute_input": "2020-12-02T03:58:06.483Z",
          "iopub.status.idle": "2020-12-02T03:58:06.545Z"
        }
      }
    },
    {
      "cell_type": "code",
      "source": [
        "myphonebook[\"Emergency\"] = 911\n",
        "myphonebook"
      ],
      "outputs": [
        {
          "output_type": "execute_result",
          "execution_count": 57,
          "data": {
            "text/plain": "Dict{String,Any} with 3 entries:\n  \"Jenny\"        => \"867-5309\"\n  \"Emergency\"    => 911\n  \"Ghostbusters\" => \"555-2368\""
          },
          "metadata": {}
        }
      ],
      "execution_count": 57,
      "metadata": {
        "collapsed": true,
        "jupyter": {
          "source_hidden": false,
          "outputs_hidden": false
        },
        "nteract": {
          "transient": {
            "deleting": false
          }
        },
        "execution": {
          "iopub.status.busy": "2020-12-02T03:58:26.087Z",
          "iopub.execute_input": "2020-12-02T03:58:26.117Z",
          "iopub.status.idle": "2020-12-02T03:58:26.181Z"
        }
      }
    }
  ],
  "metadata": {
    "language_info": {
      "file_extension": ".jl",
      "name": "julia",
      "mimetype": "application/julia",
      "version": "1.5.3"
    },
    "kernelspec": {
      "name": "julia-1.0",
      "display_name": "Julia 1.0.3",
      "language": "julia"
    },
    "nteract": {
      "version": "0.27.0"
    }
  },
  "nbformat": 4,
  "nbformat_minor": 3
}